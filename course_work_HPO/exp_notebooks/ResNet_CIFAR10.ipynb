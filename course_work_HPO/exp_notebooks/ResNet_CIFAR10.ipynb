{
  "cells": [
    {
      "cell_type": "code",
      "execution_count": null,
      "id": "6e1570de",
      "metadata": {
        "cellId": "u5qwyoovz7bo9cjay9ac68",
        "id": "6e1570de"
      },
      "outputs": [],
      "source": [
        "import numpy as np\n",
        "import pandas as pd\n",
        "import torch\n",
        "import torch.nn as nn\n",
        "import torch.nn.functional as F\n",
        "from torchvision.datasets import CIFAR10\n",
        "from torchvision import transforms\n",
        "from torch.utils.data.sampler import SubsetRandomSampler\n",
        "from torch.utils.data import DataLoader\n",
        "from tqdm.auto import tqdm"
      ]
    },
    {
      "cell_type": "code",
      "execution_count": null,
      "id": "3f86d6ac",
      "metadata": {
        "cellId": "2tz47vbflram3kxp3df8id",
        "id": "3f86d6ac"
      },
      "outputs": [],
      "source": [
        "normalize = transforms.Normalize(\n",
        "    mean=[0.4914, 0.4822, 0.4465],\n",
        "    std=[0.247, 0.2435, 0.2616],\n",
        ")"
      ]
    },
    {
      "cell_type": "code",
      "execution_count": null,
      "id": "a7c9ea73",
      "metadata": {
        "cellId": "5wna2rag203ic6zi581y8j",
        "id": "a7c9ea73"
      },
      "outputs": [],
      "source": [
        "def samplers(n, split_shuffle=True, val_size=0.1):\n",
        "    if split_shuffle:\n",
        "        idx = torch.randperm(n, generator=torch.Generator().manual_seed(0))\n",
        "    else:\n",
        "        idx = torch.arange(n)\n",
        "    split_idx = int((1.0 - val_size) * n)\n",
        "    train_sampler = SubsetRandomSampler(idx[:split_idx])\n",
        "    val_sampler = SubsetRandomSampler(idx[split_idx:])\n",
        "    return train_sampler, val_sampler"
      ]
    },
    {
      "cell_type": "code",
      "execution_count": null,
      "id": "7ef812fb",
      "metadata": {
        "cellId": "xl988itd8ktryhzh6xfjm",
        "id": "7ef812fb"
      },
      "outputs": [],
      "source": [
        "def train_val_dataloader(root_dir='./cifar10', split_shuffle=True, val_size=0.1, batch_size=128):\n",
        "    train_dataset = CIFAR10(root=root_dir, train=True, download=True, transform=transforms.Compose([transforms.ToTensor(), normalize]))\n",
        "    val_dataset = CIFAR10(root=root_dir, train=True, download=True, transform=transforms.Compose([transforms.ToTensor(), normalize]))\n",
        "\n",
        "    \n",
        "    train_sampler, val_sampler = samplers(len(train_dataset), split_shuffle, val_size)\n",
        "    train_dataloader = DataLoader(train_dataset, sampler=train_sampler, batch_size=batch_size)\n",
        "    val_dataloader = DataLoader(val_dataset, sampler=val_sampler, batch_size=batch_size)\n",
        "    return train_dataloader, val_dataloader\n"
      ]
    },
    {
      "cell_type": "code",
      "execution_count": null,
      "id": "39f39f19",
      "metadata": {
        "cellId": "32tqhf13sen33p74fi90ji",
        "id": "39f39f19"
      },
      "outputs": [],
      "source": [
        "def test_dataloader(root_dir='./cifar10', batch_size=128):\n",
        "    test_dataset = CIFAR10(root=root_dir, train=False, download=True, transform=transforms.Compose([transforms.ToTensor(), normalize]))\n",
        "    test_dataloader = DataLoader(test_dataset, batch_size=batch_size)\n",
        "    return test_dataloader"
      ]
    },
    {
      "cell_type": "code",
      "execution_count": null,
      "id": "99ea0f28",
      "metadata": {
        "cellId": "1xwvtfvn878xqkjt3pdlff",
        "id": "99ea0f28"
      },
      "outputs": [],
      "source": [
        "def train_batch(model, x_batch, y_batch, loss_fn, optimizer):\n",
        "    model.train()\n",
        "    model.zero_grad()\n",
        "    output = model(x_batch)\n",
        "    loss = loss_fn(output, y_batch)\n",
        "    loss.backward()\n",
        "    optimizer.step()\n",
        "    batch_loss = loss.cpu().item()\n",
        "    with torch.no_grad():\n",
        "        batch_acc_sum = (output.argmax(dim=1) == y_batch).sum().cpu().item()\n",
        "    return batch_loss, batch_acc_sum\n"
      ]
    },
    {
      "cell_type": "code",
      "execution_count": null,
      "id": "080494b4",
      "metadata": {
        "cellId": "997uac9kvjs490tsnxnuoy",
        "id": "080494b4"
      },
      "outputs": [],
      "source": [
        "def train_epoch(model, dataloader, loss_fn, optimizer):\n",
        "    epoch_loss = 0.0\n",
        "    epoch_acc = 0\n",
        "    epoch_size = 0\n",
        "    for i_batch, (X_batch, y_batch) in enumerate(dataloader):\n",
        "        batch_loss, batch_acc_sum = train_batch(model, X_batch.to(model.device), y_batch.to(model.device), loss_fn, optimizer)\n",
        "        epoch_size += len(X_batch)\n",
        "        epoch_loss += batch_loss * len(X_batch)\n",
        "        epoch_acc += batch_acc_sum\n",
        "    epoch_loss /= epoch_size\n",
        "    epoch_acc /= epoch_size\n",
        "    return epoch_loss, epoch_acc\n"
      ]
    },
    {
      "cell_type": "code",
      "execution_count": null,
      "id": "667475e8",
      "metadata": {
        "cellId": "e37lebmj3espkrqt5ur99b",
        "id": "667475e8"
      },
      "outputs": [],
      "source": [
        "def train_full(model, train_dataloader, val_dataloader, loss_fn, optimizer, n_epochs, callback=None):\n",
        "    epochs = tqdm(range(n_epochs), desc='Epochs', leave=True)\n",
        "    for i_epoch in epochs:\n",
        "        epoch_loss, epoch_acc = train_epoch(model, train_dataloader, loss_fn, optimizer)\n",
        "        if callback is not None:\n",
        "            cb_dict = callback(model, val_dataloader, loss_fn, epoch_loss, epoch_acc)\n",
        "            epochs.set_postfix(cb_dict)"
      ]
    },
    {
      "cell_type": "code",
      "execution_count": null,
      "id": "09a7e69d",
      "metadata": {
        "cellId": "miuft54yycoes45rsd7p",
        "id": "09a7e69d"
      },
      "outputs": [],
      "source": [
        "def evaluate(model, dataloader, loss_fn):\n",
        "    model.eval()\n",
        "    logits = []\n",
        "    targets = []\n",
        "    with torch.no_grad():\n",
        "        for X_batch, y_batch in dataloader:\n",
        "            output = model(X_batch.to(model.device)).cpu()\n",
        "            logits.append(output)\n",
        "            targets.append(y_batch)\n",
        "    logits = torch.cat(logits)\n",
        "    targets = torch.cat(targets)\n",
        "    loss = loss_fn(logits, targets).item()\n",
        "    acc = (logits.argmax(dim=1) == targets).sum().item() / len(targets)\n",
        "    return loss, acc\n"
      ]
    },
    {
      "cell_type": "code",
      "execution_count": null,
      "id": "604b8bf3",
      "metadata": {
        "cellId": "sl7t6ul10noe303vfdggvp",
        "id": "604b8bf3"
      },
      "outputs": [],
      "source": [
        "class CallBack:\n",
        "    def __init__(self, eval_fn, name=None):\n",
        "        self.eval_fn = eval_fn\n",
        "        self.train_losses = []\n",
        "        self.train_accs = []\n",
        "        self.val_losses = []\n",
        "        self.val_accs = []\n",
        "    \n",
        "    def last_info(self):\n",
        "        return {'loss_train': f'{self.train_losses[-1]}',\n",
        "                'acc_train': f'{self.train_accs[-1]}',\n",
        "                'loss_val': f'{self.val_losses[-1]}',\n",
        "                'acc_val': f'{self.val_accs[-1]}'}\n",
        "\n",
        "    def __call__(self, model, val_dataloader, loss_fn,\n",
        "                 epoch_loss=None, epoch_acc=None):\n",
        "        self.train_losses.append(epoch_loss)\n",
        "        self.train_accs.append(epoch_acc)\n",
        "        loss_val, acc_val = self.eval_fn(model, val_dataloader, loss_fn)\n",
        "        self.val_losses.append(loss_val)\n",
        "        self.val_accs.append(acc_val)\n",
        "        return self.last_info()"
      ]
    },
    {
      "cell_type": "code",
      "execution_count": null,
      "id": "a2493f51",
      "metadata": {
        "cellId": "rdf4sv6avz2zz7dji6xgj",
        "id": "a2493f51"
      },
      "outputs": [],
      "source": [
        "#ResNet\n",
        "#https://pytorch.org/vision/0.8/_modules/torchvision/models/resnet.html\n",
        "#source: https://github.com/soapisnotfat/pytorch-cifar10/blob/master/models/ResNet.py\n",
        "class BasicBlock(nn.Module):\n",
        "    expansion = 1\n",
        "\n",
        "    def __init__(self, in_planes, planes, activation, stride=1):\n",
        "        super(BasicBlock, self).__init__()\n",
        "        self.activation = activation\n",
        "        self.conv1 = nn.Conv2d(\n",
        "            in_planes, planes, kernel_size=3, stride=stride, padding=1, bias=False)\n",
        "        self.bn1 = nn.BatchNorm2d(planes)\n",
        "        self.conv2 = nn.Conv2d(planes, planes, kernel_size=3,\n",
        "                               stride=1, padding=1, bias=False)\n",
        "        self.bn2 = nn.BatchNorm2d(planes)\n",
        "\n",
        "        self.shortcut = nn.Sequential()\n",
        "        if stride != 1 or in_planes != self.expansion*planes:\n",
        "            self.shortcut = nn.Sequential(\n",
        "                nn.Conv2d(in_planes, self.expansion*planes,\n",
        "                          kernel_size=1, stride=stride, bias=False),\n",
        "                nn.BatchNorm2d(self.expansion*planes)\n",
        "            )\n",
        "\n",
        "    def forward(self, x):\n",
        "        out = self.activation(self.bn1(self.conv1(x)))\n",
        "        out = self.bn2(self.conv2(out))\n",
        "        out += self.shortcut(x)\n",
        "        out = self.activation(out)\n",
        "        return out"
      ]
    },
    {
      "cell_type": "code",
      "execution_count": null,
      "id": "56052406",
      "metadata": {
        "cellId": "ujhommw7erodprb98dwt4",
        "id": "56052406"
      },
      "outputs": [],
      "source": [
        "class ResNet(nn.Module):\n",
        "    def __init__(self, block, num_blocks, activation, num_classes=10):\n",
        "        super(ResNet, self).__init__()\n",
        "        self.in_planes = 64\n",
        "        self.activation = activation\n",
        "        self.conv1 = nn.Conv2d(3, 64, kernel_size=3,\n",
        "                               stride=1, padding=1, bias=False)\n",
        "        self.bn1 = nn.BatchNorm2d(64)\n",
        "        self.layer1 = self._make_layer(block, 64, num_blocks[0], stride=1)\n",
        "        self.layer2 = self._make_layer(block, 128, num_blocks[1], stride=2)\n",
        "        self.layer3 = self._make_layer(block, 256, num_blocks[2], stride=2)\n",
        "        self.layer4 = self._make_layer(block, 512, num_blocks[3], stride=2)\n",
        "        self.linear = nn.Linear(512*block.expansion, num_classes)\n",
        "\n",
        "\n",
        "    def _make_layer(self, block, planes, num_blocks, stride):\n",
        "        strides = [stride] + [1]*(num_blocks-1)\n",
        "        layers = []\n",
        "        for stride in strides:\n",
        "            layers.append(block(self.in_planes, planes, self.activation, stride))\n",
        "            self.in_planes = planes * block.expansion\n",
        "        return nn.Sequential(*layers)\n",
        "\n",
        "    def forward(self, x):\n",
        "        out = self.activation(self.bn1(self.conv1(x)))\n",
        "        out = self.layer1(out)\n",
        "        out = self.layer2(out)\n",
        "        out = self.layer3(out)\n",
        "        out = self.layer4(out)\n",
        "        out = F.avg_pool2d(out, 4)\n",
        "        out = out.view(out.size(0), -1)\n",
        "        out = self.linear(out)\n",
        "        return out\n"
      ]
    },
    {
      "cell_type": "code",
      "execution_count": null,
      "id": "b01dc52d",
      "metadata": {
        "cellId": "ce24o2hidcquq9ihxs6ghe",
        "id": "b01dc52d"
      },
      "outputs": [],
      "source": [
        "def ResNet18(activation):\n",
        "    return ResNet(BasicBlock, [2, 2, 2, 2], activation)"
      ]
    },
    {
      "cell_type": "code",
      "execution_count": null,
      "id": "b3802865",
      "metadata": {
        "cellId": "wuwja0eugyonumbryy719o",
        "id": "b3802865"
      },
      "outputs": [],
      "source": [
        "def pipeline(activation_set, optimizer_set, lr):\n",
        "    if activation_set == 'ReLU':\n",
        "        activation = F.relu\n",
        "    elif activation_set == 'LeakyReLU':\n",
        "        activation = F.leaky_relu\n",
        "    model = ResNet18(activation)\n",
        "    model.to(device)\n",
        "    model.device = device\n",
        "    loss_fn = nn.CrossEntropyLoss()\n",
        "    if optimizer_set == 'Adam':\n",
        "        optimizer = torch.optim.Adam(model.parameters(), lr=lr)\n",
        "    elif optimizer_set == 'SGD':\n",
        "        optimizer = torch.optim.SGD(model.parameters(), lr=lr)\n",
        "    \n",
        "    cb = CallBack(evaluate)\n",
        "    train_full(model, train_dataloader, val_dataloader, loss_fn, optimizer, n_epochs=30, callback=cb)\n",
        "    \n",
        "    loss, acc = evaluate(model, val_dataloader, loss_fn)\n",
        "\n",
        "    return acc\n",
        "    "
      ]
    },
    {
      "cell_type": "code",
      "execution_count": null,
      "id": "228256c4",
      "metadata": {
        "cellId": "ste6je4csaniqrkiuqidm",
        "id": "228256c4",
        "outputId": "2843cb10-dca8-45b1-a191-48c900d6d78d"
      },
      "outputs": [
        {
          "name": "stdout",
          "output_type": "stream",
          "text": [
            "Defaulting to user installation because normal site-packages is not writeable\n",
            "Requirement already satisfied: optuna in /home/jupyter/.local/lib/python3.8/site-packages (2.10.0)\n",
            "Requirement already satisfied: tqdm in /usr/local/lib/python3.8/dist-packages (from optuna) (4.50.0)\n",
            "Requirement already satisfied: alembic in /home/jupyter/.local/lib/python3.8/site-packages (from optuna) (1.7.7)\n",
            "Requirement already satisfied: cmaes>=0.8.2 in /home/jupyter/.local/lib/python3.8/site-packages (from optuna) (0.8.2)\n",
            "Requirement already satisfied: PyYAML in /usr/local/lib/python3.8/dist-packages (from optuna) (5.3.1)\n",
            "Requirement already satisfied: colorlog in /home/jupyter/.local/lib/python3.8/site-packages (from optuna) (6.6.0)\n",
            "Requirement already satisfied: sqlalchemy>=1.1.0 in /home/jupyter/.local/lib/python3.8/site-packages (from optuna) (1.4.36)\n",
            "Requirement already satisfied: packaging>=20.0 in /kernel/lib/python3.8/site-packages (from optuna) (20.9)\n",
            "Requirement already satisfied: cliff in /home/jupyter/.local/lib/python3.8/site-packages (from optuna) (3.10.1)\n",
            "Requirement already satisfied: numpy in /kernel/fallback/lib/python3.8/site-packages (from optuna) (1.19.4)\n",
            "Requirement already satisfied: scipy!=1.4.0 in /usr/local/lib/python3.8/dist-packages (from optuna) (1.4.1)\n",
            "Requirement already satisfied: pyparsing>=2.0.2 in /kernel/lib/python3.8/site-packages (from packaging>=20.0->optuna) (2.4.7)\n",
            "Requirement already satisfied: greenlet!=0.4.17 in /home/jupyter/.local/lib/python3.8/site-packages (from sqlalchemy>=1.1.0->optuna) (1.1.2)\n",
            "Requirement already satisfied: importlib-metadata in /usr/local/lib/python3.8/dist-packages (from alembic->optuna) (4.10.0)\n",
            "Requirement already satisfied: Mako in /home/jupyter/.local/lib/python3.8/site-packages (from alembic->optuna) (1.2.0)\n",
            "Requirement already satisfied: importlib-resources in /kernel/lib/python3.8/site-packages (from alembic->optuna) (5.7.1)\n",
            "Requirement already satisfied: autopage>=0.4.0 in /home/jupyter/.local/lib/python3.8/site-packages (from cliff->optuna) (0.5.0)\n",
            "Requirement already satisfied: cmd2>=1.0.0 in /home/jupyter/.local/lib/python3.8/site-packages (from cliff->optuna) (2.4.1)\n",
            "Requirement already satisfied: PrettyTable>=0.7.2 in /home/jupyter/.local/lib/python3.8/site-packages (from cliff->optuna) (3.2.0)\n",
            "Requirement already satisfied: pbr!=2.1.0,>=2.0.0 in /home/jupyter/.local/lib/python3.8/site-packages (from cliff->optuna) (5.8.1)\n",
            "Requirement already satisfied: stevedore>=2.0.1 in /home/jupyter/.local/lib/python3.8/site-packages (from cliff->optuna) (3.5.0)\n",
            "Requirement already satisfied: pyperclip>=1.6 in /home/jupyter/.local/lib/python3.8/site-packages (from cmd2>=1.0.0->cliff->optuna) (1.8.2)\n",
            "Requirement already satisfied: attrs>=16.3.0 in /kernel/lib/python3.8/site-packages (from cmd2>=1.0.0->cliff->optuna) (21.4.0)\n",
            "Requirement already satisfied: wcwidth>=0.1.7 in /kernel/lib/python3.8/site-packages (from cmd2>=1.0.0->cliff->optuna) (0.2.5)\n",
            "Requirement already satisfied: zipp>=0.5 in /kernel/lib/python3.8/site-packages (from importlib-metadata->alembic->optuna) (3.8.0)\n",
            "Requirement already satisfied: MarkupSafe>=0.9.2 in /kernel/lib/python3.8/site-packages (from Mako->alembic->optuna) (2.1.1)\n",
            "\u001b[33mWARNING: You are using pip version 21.3.1; however, version 22.0.4 is available.\n",
            "You should consider upgrading via the '/usr/local/bin/python3 -m pip install --upgrade pip' command.\u001b[0m\n"
          ]
        }
      ],
      "source": [
        "%pip install optuna"
      ]
    },
    {
      "cell_type": "code",
      "execution_count": null,
      "id": "60d07492",
      "metadata": {
        "cellId": "lfho426bmhc70x6ts9y65q",
        "id": "60d07492"
      },
      "outputs": [],
      "source": [
        "import optuna\n",
        "optuna.logging.set_verbosity(optuna.logging.ERROR)"
      ]
    },
    {
      "cell_type": "code",
      "execution_count": null,
      "id": "b598515f",
      "metadata": {
        "cellId": "9ztg1yt7oju7eyjo0inupj",
        "id": "b598515f"
      },
      "outputs": [],
      "source": [
        "import matplotlib.pyplot as plt\n",
        "%matplotlib inline"
      ]
    },
    {
      "cell_type": "code",
      "execution_count": null,
      "id": "46b15b39",
      "metadata": {
        "cellId": "x0cx4o1wfsuyp202m6sqk",
        "id": "46b15b39",
        "outputId": "5665c33f-ace4-4d0e-84df-c24bf93d453c"
      },
      "outputs": [
        {
          "name": "stdout",
          "output_type": "stream",
          "text": [
            "Files already downloaded and verified\n",
            "Files already downloaded and verified\n"
          ]
        }
      ],
      "source": [
        "train_dataloader, val_dataloader = train_val_dataloader()\n",
        "device = torch.device('cuda' if torch.cuda.is_available() else 'cpu')"
      ]
    },
    {
      "cell_type": "code",
      "execution_count": null,
      "id": "512bdb8c",
      "metadata": {
        "cellId": "wjmccepngz12xdwqqe68f",
        "id": "512bdb8c",
        "outputId": "92e413a2-b263-47b2-a7ae-cd8e582a8f0e"
      },
      "outputs": [
        {
          "name": "stdout",
          "output_type": "stream",
          "text": [
            "Files already downloaded and verified\n"
          ]
        }
      ],
      "source": [
        "test_loader = test_dataloader()"
      ]
    },
    {
      "cell_type": "code",
      "execution_count": null,
      "id": "69db1a6c",
      "metadata": {
        "cellId": "dn85f610s3345dziyuat7",
        "id": "69db1a6c",
        "outputId": "08de8749-a54a-495a-8902-7692da56cec7"
      },
      "outputs": [
        {
          "data": {
            "text/plain": [
              "device(type='cuda')"
            ]
          },
          "execution_count": 49,
          "metadata": {},
          "output_type": "execute_result"
        }
      ],
      "source": [
        "device"
      ]
    },
    {
      "cell_type": "markdown",
      "source": [
        "# Grid search"
      ],
      "metadata": {
        "id": "u4klzsiDgCyp"
      },
      "id": "u4klzsiDgCyp"
    },
    {
      "cell_type": "code",
      "source": [
        "def objective_gs(trial):\n",
        "\n",
        "    lr = trial.suggest_float('lr', 1e-3, 1e-1)\n",
        "    optimizer_set = trial.suggest_categorical('optimizer', ['Adam', 'SGD'])\n",
        "\n",
        "    \n",
        "    activation_set = trial.suggest_categorical('activation', ['ReLU', 'LeakyReLU'])\n",
        "    return pipeline(activation_set, optimizer_set, lr)"
      ],
      "metadata": {
        "execution": {
          "iopub.status.busy": "2022-05-02T03:12:30.952456Z",
          "iopub.execute_input": "2022-05-02T03:12:30.952710Z",
          "iopub.status.idle": "2022-05-02T03:12:30.958657Z",
          "shell.execute_reply.started": "2022-05-02T03:12:30.952680Z",
          "shell.execute_reply": "2022-05-02T03:12:30.957837Z"
        },
        "trusted": true,
        "id": "-0eTm2DIgCyq"
      },
      "execution_count": null,
      "outputs": [],
      "id": "-0eTm2DIgCyq"
    },
    {
      "cell_type": "code",
      "source": [
        "%%time\n",
        "search_space = {'optimizer': ['Adam', 'SGD'], 'activation': ['ReLU', 'LeakyReLU'], 'lr': np.logspace(-3, -1, 3)}\n",
        "study = optuna.create_study(direction='maximize', sampler=optuna.samplers.GridSampler(search_space))\n",
        "study.optimize(objective_gs, n_trials=12)"
      ],
      "metadata": {
        "execution": {
          "iopub.status.busy": "2022-05-02T03:12:53.669148Z",
          "iopub.execute_input": "2022-05-02T03:12:53.669408Z",
          "iopub.status.idle": "2022-05-02T07:30:30.268433Z",
          "shell.execute_reply.started": "2022-05-02T03:12:53.669377Z",
          "shell.execute_reply": "2022-05-02T07:30:30.267714Z"
        },
        "trusted": true,
        "colab": {
          "referenced_widgets": [
            "9a18d45a3a6043ff939425b3be51db31",
            "21a171ea8a4543dba019a814ae97fa8c",
            "0981e3c23f524f32adaa84ca826ac99e",
            "9324c3f297684eb091e6f322b09a989d",
            "476f863d52d245f5a3d6aaf6f947f7b7",
            "6ea0fec5a90947c9a97c9d05f42258b0",
            "8e48260941134e90b4e57070259f26e4",
            "383723c954a243ad8b4a9d4d5feeabf5",
            "ca997e80d254412f938603c2568a1139",
            "8afd27a3204a49e49edbce6c8ef9d8a0",
            "06a81c472bce4fbaae9e09d4c1dc9165",
            "a5b1e2f0694d4f98ba28dbbc960cee74"
          ]
        },
        "id": "NGqTZD9HgCyq",
        "outputId": "5e4cce02-d9ce-495c-90a9-196ddf78b14f"
      },
      "execution_count": null,
      "outputs": [
        {
          "output_type": "display_data",
          "data": {
            "text/plain": "Epochs:   0%|          | 0/30 [00:00<?, ?it/s]",
            "application/vnd.jupyter.widget-view+json": {
              "version_major": 2,
              "version_minor": 0,
              "model_id": "9a18d45a3a6043ff939425b3be51db31"
            }
          },
          "metadata": {}
        },
        {
          "output_type": "display_data",
          "data": {
            "text/plain": "Epochs:   0%|          | 0/30 [00:00<?, ?it/s]",
            "application/vnd.jupyter.widget-view+json": {
              "version_major": 2,
              "version_minor": 0,
              "model_id": "21a171ea8a4543dba019a814ae97fa8c"
            }
          },
          "metadata": {}
        },
        {
          "output_type": "display_data",
          "data": {
            "text/plain": "Epochs:   0%|          | 0/30 [00:00<?, ?it/s]",
            "application/vnd.jupyter.widget-view+json": {
              "version_major": 2,
              "version_minor": 0,
              "model_id": "0981e3c23f524f32adaa84ca826ac99e"
            }
          },
          "metadata": {}
        },
        {
          "output_type": "display_data",
          "data": {
            "text/plain": "Epochs:   0%|          | 0/30 [00:00<?, ?it/s]",
            "application/vnd.jupyter.widget-view+json": {
              "version_major": 2,
              "version_minor": 0,
              "model_id": "9324c3f297684eb091e6f322b09a989d"
            }
          },
          "metadata": {}
        },
        {
          "output_type": "display_data",
          "data": {
            "text/plain": "Epochs:   0%|          | 0/30 [00:00<?, ?it/s]",
            "application/vnd.jupyter.widget-view+json": {
              "version_major": 2,
              "version_minor": 0,
              "model_id": "476f863d52d245f5a3d6aaf6f947f7b7"
            }
          },
          "metadata": {}
        },
        {
          "output_type": "display_data",
          "data": {
            "text/plain": "Epochs:   0%|          | 0/30 [00:00<?, ?it/s]",
            "application/vnd.jupyter.widget-view+json": {
              "version_major": 2,
              "version_minor": 0,
              "model_id": "6ea0fec5a90947c9a97c9d05f42258b0"
            }
          },
          "metadata": {}
        },
        {
          "output_type": "display_data",
          "data": {
            "text/plain": "Epochs:   0%|          | 0/30 [00:00<?, ?it/s]",
            "application/vnd.jupyter.widget-view+json": {
              "version_major": 2,
              "version_minor": 0,
              "model_id": "8e48260941134e90b4e57070259f26e4"
            }
          },
          "metadata": {}
        },
        {
          "output_type": "display_data",
          "data": {
            "text/plain": "Epochs:   0%|          | 0/30 [00:00<?, ?it/s]",
            "application/vnd.jupyter.widget-view+json": {
              "version_major": 2,
              "version_minor": 0,
              "model_id": "383723c954a243ad8b4a9d4d5feeabf5"
            }
          },
          "metadata": {}
        },
        {
          "output_type": "display_data",
          "data": {
            "text/plain": "Epochs:   0%|          | 0/30 [00:00<?, ?it/s]",
            "application/vnd.jupyter.widget-view+json": {
              "version_major": 2,
              "version_minor": 0,
              "model_id": "ca997e80d254412f938603c2568a1139"
            }
          },
          "metadata": {}
        },
        {
          "output_type": "display_data",
          "data": {
            "text/plain": "Epochs:   0%|          | 0/30 [00:00<?, ?it/s]",
            "application/vnd.jupyter.widget-view+json": {
              "version_major": 2,
              "version_minor": 0,
              "model_id": "8afd27a3204a49e49edbce6c8ef9d8a0"
            }
          },
          "metadata": {}
        },
        {
          "output_type": "display_data",
          "data": {
            "text/plain": "Epochs:   0%|          | 0/30 [00:00<?, ?it/s]",
            "application/vnd.jupyter.widget-view+json": {
              "version_major": 2,
              "version_minor": 0,
              "model_id": "06a81c472bce4fbaae9e09d4c1dc9165"
            }
          },
          "metadata": {}
        },
        {
          "output_type": "display_data",
          "data": {
            "text/plain": "Epochs:   0%|          | 0/30 [00:00<?, ?it/s]",
            "application/vnd.jupyter.widget-view+json": {
              "version_major": 2,
              "version_minor": 0,
              "model_id": "a5b1e2f0694d4f98ba28dbbc960cee74"
            }
          },
          "metadata": {}
        },
        {
          "name": "stdout",
          "text": "CPU times: user 4h 16min 6s, sys: 20.4 s, total: 4h 16min 27s\nWall time: 4h 17min 36s\n",
          "output_type": "stream"
        }
      ],
      "id": "NGqTZD9HgCyq"
    },
    {
      "cell_type": "code",
      "source": [
        "plt.figure(figsize=(20, 18))\n",
        "optuna.visualization.matplotlib.plot_optimization_history(study)\n",
        "plt.savefig('ResNet_GS_HIST.pdf')"
      ],
      "metadata": {
        "execution": {
          "iopub.status.busy": "2022-05-02T07:30:30.270255Z",
          "iopub.execute_input": "2022-05-02T07:30:30.270714Z",
          "iopub.status.idle": "2022-05-02T07:30:30.794229Z",
          "shell.execute_reply.started": "2022-05-02T07:30:30.270677Z",
          "shell.execute_reply": "2022-05-02T07:30:30.793543Z"
        },
        "trusted": true,
        "id": "fmOQgcskgCyr",
        "outputId": "2e67e066-bcc8-464e-e3e8-652e51813a1d"
      },
      "execution_count": null,
      "outputs": [
        {
          "name": "stderr",
          "text": "/opt/conda/lib/python3.7/site-packages/ipykernel_launcher.py:2: ExperimentalWarning: plot_optimization_history is experimental (supported from v2.2.0). The interface can change in the future.\n  \n",
          "output_type": "stream"
        },
        {
          "output_type": "display_data",
          "data": {
            "text/plain": "<Figure size 1440x1296 with 0 Axes>"
          },
          "metadata": {}
        },
        {
          "output_type": "display_data",
          "data": {
            "text/plain": "<Figure size 432x288 with 1 Axes>",
            "image/png": "[encoded data removed]"
          },
          "metadata": {}
        }
      ],
      "id": "fmOQgcskgCyr"
    },
    {
      "cell_type": "code",
      "source": [
        "print('ResNet, GS, best trial:')\n",
        "print(study.best_trial.params)\n",
        "print('ResNet, GS, best accuracy:')\n",
        "print(study.best_value)\n",
        "print('ResNet, GS, best trial number')\n",
        "print(study.best_trial.number)"
      ],
      "metadata": {
        "execution": {
          "iopub.status.busy": "2022-05-02T07:30:30.795503Z",
          "iopub.execute_input": "2022-05-02T07:30:30.795736Z",
          "iopub.status.idle": "2022-05-02T07:30:30.804302Z",
          "shell.execute_reply.started": "2022-05-02T07:30:30.795704Z",
          "shell.execute_reply": "2022-05-02T07:30:30.803429Z"
        },
        "trusted": true,
        "id": "NqHfQqGsgCys",
        "outputId": "d722c760-9f36-4dec-aa4c-c5a5d58b51cc"
      },
      "execution_count": null,
      "outputs": [
        {
          "name": "stdout",
          "text": "ResNet, GS, best trial:\n{'lr': 0.1, 'optimizer': 'SGD', 'activation': 'ReLU'}\nResNet, GS, best accuracy:\n0.8458\nResNet, GS, best trial number\n5\n",
          "output_type": "stream"
        }
      ],
      "id": "NqHfQqGsgCys"
    },
    {
      "cell_type": "code",
      "source": [
        "plt.figure(figsize=(20, 18))\n",
        "optuna.visualization.matplotlib.plot_contour(study, params=[\"lr\", \"optimizer\", \"activation\"])\n",
        "plt.savefig('ResNet_GS_CP.pdf')"
      ],
      "metadata": {
        "execution": {
          "iopub.status.busy": "2022-05-02T07:30:30.806439Z",
          "iopub.execute_input": "2022-05-02T07:30:30.807298Z",
          "iopub.status.idle": "2022-05-02T07:31:02.757441Z",
          "shell.execute_reply.started": "2022-05-02T07:30:30.807263Z",
          "shell.execute_reply": "2022-05-02T07:31:02.756745Z"
        },
        "trusted": true,
        "id": "Kh6IO8HNgCys",
        "outputId": "cc6d7476-fd24-48bc-a067-e3df790adffc"
      },
      "execution_count": null,
      "outputs": [
        {
          "name": "stderr",
          "text": "/opt/conda/lib/python3.7/site-packages/ipykernel_launcher.py:2: ExperimentalWarning: plot_contour is experimental (supported from v2.2.0). The interface can change in the future.\n  \n",
          "output_type": "stream"
        },
        {
          "output_type": "display_data",
          "data": {
            "text/plain": "<Figure size 1440x1296 with 0 Axes>"
          },
          "metadata": {}
        },
        {
          "output_type": "display_data",
          "data": {
            "text/plain": "<Figure size 432x288 with 10 Axes>",
            "image/png": "[encoded data removed]"
          },
          "metadata": {}
        }
      ],
      "id": "Kh6IO8HNgCys"
    },
    {
      "cell_type": "code",
      "execution_count": null,
      "id": "40646658",
      "metadata": {
        "cellId": "c8agibqruic0gd2bn2fbigh",
        "id": "40646658"
      },
      "outputs": [],
      "source": [
        "def eval_test(study):\n",
        "    lr = study.best_trial.params['lr']\n",
        "    if study.best_trial.params['activation'] == 'ReLU':\n",
        "        activation = F.relu\n",
        "    elif study.best_trial.params['activation'] == 'LeakyReLU':\n",
        "        activation = F.leaky_relu\n",
        "\n",
        "    model = ResNet18(activation)\n",
        "    model.to(device)\n",
        "    model.device = device\n",
        "    loss_fn = nn.CrossEntropyLoss()\n",
        "    cb = CallBack(evaluate)\n",
        "\n",
        "    if study.best_trial.params['optimizer'] == 'Adam':\n",
        "        optimizer = torch.optim.Adam(model.parameters(), lr=lr)\n",
        "    elif study.best_trial.params['optimizer'] == 'SGD':\n",
        "        optimizer = torch.optim.SGD(model.parameters(), lr=lr)\n",
        "    \n",
        "    train_full(model, train_dataloader, val_dataloader, loss_fn, optimizer, n_epochs=30, callback=cb)\n",
        "    \n",
        "    return evaluate(model, test_loader, loss_fn)"
      ]
    },
    {
      "cell_type": "code",
      "source": [
        "loss, acc = eval_test(study)\n",
        "print('ResNet, GS, accuracy on test:')\n",
        "print(acc)"
      ],
      "metadata": {
        "execution": {
          "iopub.status.busy": "2022-05-02T07:34:14.752812Z",
          "iopub.execute_input": "2022-05-02T07:34:14.753508Z",
          "iopub.status.idle": "2022-05-02T07:55:35.405740Z",
          "shell.execute_reply.started": "2022-05-02T07:34:14.753470Z",
          "shell.execute_reply": "2022-05-02T07:55:35.405026Z"
        },
        "trusted": true,
        "colab": {
          "referenced_widgets": [
            "86bec2eb7a7f4120ad8893f6bf6295bb"
          ]
        },
        "id": "MzORD7FegCyt",
        "outputId": "c7f3b4a8-e0e4-490c-9abd-dcc64f297818"
      },
      "execution_count": null,
      "outputs": [
        {
          "output_type": "display_data",
          "data": {
            "text/plain": "Epochs:   0%|          | 0/30 [00:00<?, ?it/s]",
            "application/vnd.jupyter.widget-view+json": {
              "version_major": 2,
              "version_minor": 0,
              "model_id": "86bec2eb7a7f4120ad8893f6bf6295bb"
            }
          },
          "metadata": {}
        },
        {
          "name": "stdout",
          "text": "ResNet, GS, accuracy on test:\n0.8368\n",
          "output_type": "stream"
        }
      ],
      "id": "MzORD7FegCyt"
    },
    {
      "cell_type": "markdown",
      "id": "b82f9930",
      "metadata": {
        "cellId": "tutdnzc9khbzaz6m4nf5l",
        "id": "b82f9930"
      },
      "source": [
        "# Random search"
      ]
    },
    {
      "cell_type": "code",
      "execution_count": null,
      "id": "5d184090",
      "metadata": {
        "cellId": "9p5t34wvzecgcanglm4rno",
        "id": "5d184090"
      },
      "outputs": [],
      "source": [
        "def objective(trial):\n",
        "\n",
        "    lr = trial.suggest_float('lr', 1e-3, 1e-1, log=True)\n",
        "    optimizer_set = trial.suggest_categorical('optimizer', ['Adam', 'SGD'])\n",
        "    activation_set = trial.suggest_categorical('activation', ['ReLU', 'LeakyReLU'])    \n",
        "    return pipeline(activation_set, optimizer_set, lr)"
      ]
    },
    {
      "cell_type": "code",
      "execution_count": null,
      "id": "88e10c2b",
      "metadata": {
        "cellId": "oea53cscnn8vv6rfmp8tm",
        "colab": {
          "referenced_widgets": [
            "82176e1b5f5243eb8c51669df0b7905a",
            "66fc035b38f3436d883cb577051c9997",
            "58e90809c9e74d99baa25df2f1fec3cc",
            "1cba8e466274427992170237e579c9d9",
            "844fe08bdbe64c9e96e3b201fab7e394",
            "4236e7f7eb1141b1bd0e8f0e819a6416",
            "87d220eabed242468370e9242c8d0ddd",
            "49f18f9221dd4dcdb8862539a00a516c",
            "1c6a9cfa13874e8cac01164f47f33192",
            "1c9bdfe7ca964adc84ebf019b8aa7e18",
            "e502c4867eeb40048aecff53d4dcd463",
            "4c72cb8f5d124ef69605a072f7d49c26"
          ]
        },
        "id": "88e10c2b",
        "outputId": "7a5c1af4-4dc2-4e71-8738-60e9d10758fc"
      },
      "outputs": [
        {
          "name": "stderr",
          "output_type": "stream",
          "text": [
            "\u001b[32m[I 2022-05-02 00:57:30,386]\u001b[0m A new study created in memory with name: no-name-361d5d19-86fc-411c-afbe-aa56b0cce6fe\u001b[0m\n"
          ]
        },
        {
          "data": {
            "application/vnd.jupyter.widget-view+json": {
              "model_id": "82176e1b5f5243eb8c51669df0b7905a",
              "version_major": 2,
              "version_minor": 0
            },
            "text/plain": [
              "HBox(children=(HTML(value='Epochs'), FloatProgress(value=0.0, max=30.0), HTML(value='')))"
            ]
          },
          "metadata": {},
          "output_type": "display_data"
        },
        {
          "name": "stdout",
          "output_type": "stream",
          "text": [
            "\n"
          ]
        },
        {
          "name": "stderr",
          "output_type": "stream",
          "text": [
            "\u001b[32m[I 2022-05-02 01:23:47,214]\u001b[0m Trial 0 finished with value: 0.6978 and parameters: {'lr': 0.00431142821419278, 'optimizer': 'SGD', 'activation': 'LeakyReLU'}. Best is trial 0 with value: 0.6978.\u001b[0m\n"
          ]
        },
        {
          "data": {
            "application/vnd.jupyter.widget-view+json": {
              "model_id": "66fc035b38f3436d883cb577051c9997",
              "version_major": 2,
              "version_minor": 0
            },
            "text/plain": [
              "HBox(children=(HTML(value='Epochs'), FloatProgress(value=0.0, max=30.0), HTML(value='')))"
            ]
          },
          "metadata": {},
          "output_type": "display_data"
        },
        {
          "name": "stdout",
          "output_type": "stream",
          "text": [
            "\n"
          ]
        },
        {
          "name": "stderr",
          "output_type": "stream",
          "text": [
            "\u001b[32m[I 2022-05-02 01:50:03,634]\u001b[0m Trial 1 finished with value: 0.8244 and parameters: {'lr': 0.04643364597670364, 'optimizer': 'SGD', 'activation': 'ReLU'}. Best is trial 1 with value: 0.8244.\u001b[0m\n"
          ]
        },
        {
          "data": {
            "application/vnd.jupyter.widget-view+json": {
              "model_id": "58e90809c9e74d99baa25df2f1fec3cc",
              "version_major": 2,
              "version_minor": 0
            },
            "text/plain": [
              "HBox(children=(HTML(value='Epochs'), FloatProgress(value=0.0, max=30.0), HTML(value='')))"
            ]
          },
          "metadata": {},
          "output_type": "display_data"
        },
        {
          "name": "stdout",
          "output_type": "stream",
          "text": [
            "\n"
          ]
        },
        {
          "name": "stderr",
          "output_type": "stream",
          "text": [
            "\u001b[32m[I 2022-05-02 02:16:20,134]\u001b[0m Trial 2 finished with value: 0.8436 and parameters: {'lr': 0.09037681144995528, 'optimizer': 'SGD', 'activation': 'ReLU'}. Best is trial 2 with value: 0.8436.\u001b[0m\n"
          ]
        },
        {
          "data": {
            "application/vnd.jupyter.widget-view+json": {
              "model_id": "1cba8e466274427992170237e579c9d9",
              "version_major": 2,
              "version_minor": 0
            },
            "text/plain": [
              "HBox(children=(HTML(value='Epochs'), FloatProgress(value=0.0, max=30.0), HTML(value='')))"
            ]
          },
          "metadata": {},
          "output_type": "display_data"
        },
        {
          "name": "stdout",
          "output_type": "stream",
          "text": [
            "\n"
          ]
        },
        {
          "name": "stderr",
          "output_type": "stream",
          "text": [
            "\u001b[32m[I 2022-05-02 02:43:01,639]\u001b[0m Trial 3 finished with value: 0.8064 and parameters: {'lr': 0.010441703593505674, 'optimizer': 'Adam', 'activation': 'ReLU'}. Best is trial 2 with value: 0.8436.\u001b[0m\n"
          ]
        },
        {
          "data": {
            "application/vnd.jupyter.widget-view+json": {
              "model_id": "844fe08bdbe64c9e96e3b201fab7e394",
              "version_major": 2,
              "version_minor": 0
            },
            "text/plain": [
              "HBox(children=(HTML(value='Epochs'), FloatProgress(value=0.0, max=30.0), HTML(value='')))"
            ]
          },
          "metadata": {},
          "output_type": "display_data"
        },
        {
          "name": "stdout",
          "output_type": "stream",
          "text": [
            "\n"
          ]
        },
        {
          "name": "stderr",
          "output_type": "stream",
          "text": [
            "\u001b[32m[I 2022-05-02 03:09:43,455]\u001b[0m Trial 4 finished with value: 0.7784 and parameters: {'lr': 0.07591820896628595, 'optimizer': 'Adam', 'activation': 'LeakyReLU'}. Best is trial 2 with value: 0.8436.\u001b[0m\n"
          ]
        },
        {
          "data": {
            "application/vnd.jupyter.widget-view+json": {
              "model_id": "4236e7f7eb1141b1bd0e8f0e819a6416",
              "version_major": 2,
              "version_minor": 0
            },
            "text/plain": [
              "HBox(children=(HTML(value='Epochs'), FloatProgress(value=0.0, max=30.0), HTML(value='')))"
            ]
          },
          "metadata": {},
          "output_type": "display_data"
        },
        {
          "name": "stdout",
          "output_type": "stream",
          "text": [
            "\n"
          ]
        },
        {
          "name": "stderr",
          "output_type": "stream",
          "text": [
            "\u001b[32m[I 2022-05-02 03:36:10,287]\u001b[0m Trial 5 finished with value: 0.7072 and parameters: {'lr': 0.004698832128536679, 'optimizer': 'SGD', 'activation': 'LeakyReLU'}. Best is trial 2 with value: 0.8436.\u001b[0m\n"
          ]
        },
        {
          "data": {
            "application/vnd.jupyter.widget-view+json": {
              "model_id": "87d220eabed242468370e9242c8d0ddd",
              "version_major": 2,
              "version_minor": 0
            },
            "text/plain": [
              "HBox(children=(HTML(value='Epochs'), FloatProgress(value=0.0, max=30.0), HTML(value='')))"
            ]
          },
          "metadata": {},
          "output_type": "display_data"
        },
        {
          "name": "stdout",
          "output_type": "stream",
          "text": [
            "\n"
          ]
        },
        {
          "name": "stderr",
          "output_type": "stream",
          "text": [
            "\u001b[32m[I 2022-05-02 04:02:36,781]\u001b[0m Trial 6 finished with value: 0.7206 and parameters: {'lr': 0.006450300070756307, 'optimizer': 'SGD', 'activation': 'ReLU'}. Best is trial 2 with value: 0.8436.\u001b[0m\n"
          ]
        },
        {
          "data": {
            "application/vnd.jupyter.widget-view+json": {
              "model_id": "49f18f9221dd4dcdb8862539a00a516c",
              "version_major": 2,
              "version_minor": 0
            },
            "text/plain": [
              "HBox(children=(HTML(value='Epochs'), FloatProgress(value=0.0, max=30.0), HTML(value='')))"
            ]
          },
          "metadata": {},
          "output_type": "display_data"
        },
        {
          "name": "stdout",
          "output_type": "stream",
          "text": [
            "\n"
          ]
        },
        {
          "name": "stderr",
          "output_type": "stream",
          "text": [
            "\u001b[32m[I 2022-05-02 04:29:00,475]\u001b[0m Trial 7 finished with value: 0.8192 and parameters: {'lr': 0.03290061188833177, 'optimizer': 'SGD', 'activation': 'LeakyReLU'}. Best is trial 2 with value: 0.8436.\u001b[0m\n"
          ]
        },
        {
          "data": {
            "application/vnd.jupyter.widget-view+json": {
              "model_id": "1c6a9cfa13874e8cac01164f47f33192",
              "version_major": 2,
              "version_minor": 0
            },
            "text/plain": [
              "HBox(children=(HTML(value='Epochs'), FloatProgress(value=0.0, max=30.0), HTML(value='')))"
            ]
          },
          "metadata": {},
          "output_type": "display_data"
        },
        {
          "name": "stdout",
          "output_type": "stream",
          "text": [
            "\n"
          ]
        },
        {
          "name": "stderr",
          "output_type": "stream",
          "text": [
            "\u001b[32m[I 2022-05-02 04:55:34,497]\u001b[0m Trial 8 finished with value: 0.8016 and parameters: {'lr': 0.020350091598381387, 'optimizer': 'Adam', 'activation': 'ReLU'}. Best is trial 2 with value: 0.8436.\u001b[0m\n"
          ]
        },
        {
          "data": {
            "application/vnd.jupyter.widget-view+json": {
              "model_id": "1c9bdfe7ca964adc84ebf019b8aa7e18",
              "version_major": 2,
              "version_minor": 0
            },
            "text/plain": [
              "HBox(children=(HTML(value='Epochs'), FloatProgress(value=0.0, max=30.0), HTML(value='')))"
            ]
          },
          "metadata": {},
          "output_type": "display_data"
        },
        {
          "name": "stdout",
          "output_type": "stream",
          "text": [
            "\n"
          ]
        },
        {
          "name": "stderr",
          "output_type": "stream",
          "text": [
            "\u001b[32m[I 2022-05-02 05:21:56,539]\u001b[0m Trial 9 finished with value: 0.8336 and parameters: {'lr': 0.05416233817195137, 'optimizer': 'SGD', 'activation': 'ReLU'}. Best is trial 2 with value: 0.8436.\u001b[0m\n"
          ]
        },
        {
          "data": {
            "application/vnd.jupyter.widget-view+json": {
              "model_id": "e502c4867eeb40048aecff53d4dcd463",
              "version_major": 2,
              "version_minor": 0
            },
            "text/plain": [
              "HBox(children=(HTML(value='Epochs'), FloatProgress(value=0.0, max=30.0), HTML(value='')))"
            ]
          },
          "metadata": {},
          "output_type": "display_data"
        },
        {
          "name": "stdout",
          "output_type": "stream",
          "text": [
            "\n"
          ]
        },
        {
          "name": "stderr",
          "output_type": "stream",
          "text": [
            "\u001b[32m[I 2022-05-02 05:48:37,911]\u001b[0m Trial 10 finished with value: 0.771 and parameters: {'lr': 0.04779266629202528, 'optimizer': 'Adam', 'activation': 'LeakyReLU'}. Best is trial 2 with value: 0.8436.\u001b[0m\n"
          ]
        },
        {
          "data": {
            "application/vnd.jupyter.widget-view+json": {
              "model_id": "4c72cb8f5d124ef69605a072f7d49c26",
              "version_major": 2,
              "version_minor": 0
            },
            "text/plain": [
              "HBox(children=(HTML(value='Epochs'), FloatProgress(value=0.0, max=30.0), HTML(value='')))"
            ]
          },
          "metadata": {},
          "output_type": "display_data"
        },
        {
          "name": "stdout",
          "output_type": "stream",
          "text": [
            "\n"
          ]
        },
        {
          "name": "stderr",
          "output_type": "stream",
          "text": [
            "\u001b[32m[I 2022-05-02 06:15:00,605]\u001b[0m Trial 11 finished with value: 0.8314 and parameters: {'lr': 0.042501236456809324, 'optimizer': 'SGD', 'activation': 'LeakyReLU'}. Best is trial 2 with value: 0.8436.\u001b[0m\n"
          ]
        },
        {
          "name": "stdout",
          "output_type": "stream",
          "text": [
            "CPU times: user 3h 47min 9s, sys: 1h 33min 28s, total: 5h 20min 38s\n",
            "Wall time: 5h 17min 52s\n"
          ]
        }
      ],
      "source": [
        "%%time\n",
        "study = optuna.create_study(direction='maximize', sampler=optuna.samplers.RandomSampler())\n",
        "study.optimize(objective, n_trials=12)"
      ]
    },
    {
      "cell_type": "code",
      "execution_count": null,
      "id": "120cda13",
      "metadata": {
        "cellId": "a4r17e7ssh6h8ftjlbbu6",
        "id": "120cda13",
        "outputId": "99051531-31d9-4a96-d92a-3c260837ba88"
      },
      "outputs": [
        {
          "name": "stderr",
          "output_type": "stream",
          "text": [
            "<ipython-input-1-5884eb65fce0>:2: ExperimentalWarning: plot_optimization_history is experimental (supported from v2.2.0). The interface can change in the future.\n",
            "  optuna.visualization.matplotlib.plot_optimization_history(study)\n"
          ]
        },
        {
          "data": {
            "text/plain": [
              "<Figure size 1440x1296 with 0 Axes>"
            ]
          },
          "metadata": {},
          "output_type": "display_data"
        },
        {
          "data": {
            "image/png": "[encoded data removed]",
            "text/plain": [
              "<Figure size 432x288 with 1 Axes>"
            ]
          },
          "metadata": {},
          "output_type": "display_data"
        }
      ],
      "source": [
        "plt.figure(figsize=(20, 18))\n",
        "optuna.visualization.matplotlib.plot_optimization_history(study)\n",
        "plt.savefig('ResNet_RS_HIST.pdf')"
      ]
    },
    {
      "cell_type": "code",
      "execution_count": null,
      "id": "c6e060f5",
      "metadata": {
        "cellId": "o04o0lvrrii4k0q98cs2q",
        "id": "c6e060f5",
        "outputId": "628337de-06ed-49a8-ad4d-2f79c80d2c42"
      },
      "outputs": [
        {
          "name": "stdout",
          "output_type": "stream",
          "text": [
            "ResNet, RS, best trial:\n",
            "{'lr': 0.09037681144995528, 'optimizer': 'SGD', 'activation': 'ReLU'}\n",
            "ResNet, RS, best accuracy:\n",
            "0.8436\n",
            "ResNet, RS, best trial number\n",
            "2\n"
          ]
        }
      ],
      "source": [
        "print('ResNet, RS, best trial:')\n",
        "print(study.best_trial.params)\n",
        "print('ResNet, RS, best accuracy:')\n",
        "print(study.best_value)\n",
        "print('ResNet, RS, best trial number')\n",
        "print(study.best_trial.number)"
      ]
    },
    {
      "cell_type": "code",
      "execution_count": null,
      "id": "b520a501",
      "metadata": {
        "cellId": "jcst2t0qgdkfoi5aw4nz6r",
        "id": "b520a501",
        "outputId": "6ae8f076-e01c-496e-d4ae-e6d94fe589e6"
      },
      "outputs": [
        {
          "name": "stderr",
          "output_type": "stream",
          "text": [
            "<ipython-input-3-eeebbd579c89>:2: ExperimentalWarning: plot_contour is experimental (supported from v2.2.0). The interface can change in the future.\n",
            "  optuna.visualization.matplotlib.plot_contour(study, params=[\"lr\", \"optimizer\", \"activation\"])\n",
            "\u001b[33m[W 2022-05-02 06:15:33,632]\u001b[0m Output figures of this Matplotlib-based `plot_contour` function would be different from those of the Plotly-based `plot_contour`.\u001b[0m\n"
          ]
        },
        {
          "data": {
            "text/plain": [
              "<Figure size 1440x1296 with 0 Axes>"
            ]
          },
          "metadata": {},
          "output_type": "display_data"
        },
        {
          "data": {
            "image/png": "[encoded data removed]",
            "text/plain": [
              "<Figure size 432x288 with 10 Axes>"
            ]
          },
          "metadata": {},
          "output_type": "display_data"
        }
      ],
      "source": [
        "plt.figure(figsize=(20, 18))\n",
        "optuna.visualization.matplotlib.plot_contour(study, params=[\"lr\", \"optimizer\", \"activation\"])\n",
        "plt.savefig('ResNet_RS_CP.pdf')"
      ]
    },
    {
      "cell_type": "code",
      "execution_count": null,
      "id": "f92abc26",
      "metadata": {
        "cellId": "dwx8t7fgu54tvnt0aqhe4o",
        "colab": {
          "referenced_widgets": [
            "955d0db915e945848446d0769d0cbb99"
          ]
        },
        "id": "f92abc26",
        "outputId": "400df950-178f-4c86-bb3c-1f76de370669"
      },
      "outputs": [
        {
          "data": {
            "application/vnd.jupyter.widget-view+json": {
              "model_id": "955d0db915e945848446d0769d0cbb99",
              "version_major": 2,
              "version_minor": 0
            },
            "text/plain": [
              "HBox(children=(HTML(value='Epochs'), FloatProgress(value=0.0, max=30.0), HTML(value='')))"
            ]
          },
          "metadata": {},
          "output_type": "display_data"
        },
        {
          "name": "stdout",
          "output_type": "stream",
          "text": [
            "\n",
            "ResNet, RS, accuracy on test:\n",
            "0.8431\n"
          ]
        }
      ],
      "source": [
        "loss, acc = eval_test(study)\n",
        "print('ResNet, RS, accuracy on test:')\n",
        "print(acc)"
      ]
    },
    {
      "cell_type": "markdown",
      "source": [
        "# NSGA-II"
      ],
      "metadata": {
        "id": "Kvu18TbqsHSB"
      },
      "id": "Kvu18TbqsHSB"
    },
    {
      "cell_type": "code",
      "source": [
        "%%time\n",
        "study = optuna.create_study(direction='maximize', sampler=optuna.samplers.NSGAIISampler())\n",
        "study.optimize(objective, n_trials=12)"
      ],
      "metadata": {
        "execution": {
          "iopub.status.busy": "2022-05-13T05:26:40.453892Z",
          "iopub.execute_input": "2022-05-13T05:26:40.454366Z",
          "iopub.status.idle": "2022-05-13T09:56:13.304345Z",
          "shell.execute_reply.started": "2022-05-13T05:26:40.454320Z",
          "shell.execute_reply": "2022-05-13T09:56:13.303589Z"
        },
        "trusted": true,
        "colab": {
          "referenced_widgets": [
            "ff798b11e2ac4482bec63a4ecdfee044",
            "7ee0c9bc1395466984fa25b3aae4e099",
            "68ba95904c2440eaa773dcd514c19414",
            "87bc499908ba4b65a0c11ccd30c70d84",
            "58787134d8944f4d868aaa593672ed25",
            "c6542f2f057a43838f26c2cddce3c882",
            "1dbd48821280486980430d0147de57a8",
            "3fdc0c48760d45548ae7f6a02727506a",
            "b230f8dac9354746a2d910558819f746",
            "2c00749402fc4fa89efe9b131e75da51",
            "71a5f52765c644b4bf46eb5bae637f74",
            "9f3ff6d443e24725ac9d4cca1353fe54"
          ]
        },
        "id": "dtS7vxaXsHSB",
        "outputId": "8adce7bc-7210-4448-9c0d-172b80886ffd"
      },
      "execution_count": null,
      "outputs": [
        {
          "output_type": "display_data",
          "data": {
            "text/plain": "Epochs:   0%|          | 0/30 [00:00<?, ?it/s]",
            "application/vnd.jupyter.widget-view+json": {
              "version_major": 2,
              "version_minor": 0,
              "model_id": "ff798b11e2ac4482bec63a4ecdfee044"
            }
          },
          "metadata": {}
        },
        {
          "output_type": "display_data",
          "data": {
            "text/plain": "Epochs:   0%|          | 0/30 [00:00<?, ?it/s]",
            "application/vnd.jupyter.widget-view+json": {
              "version_major": 2,
              "version_minor": 0,
              "model_id": "7ee0c9bc1395466984fa25b3aae4e099"
            }
          },
          "metadata": {}
        },
        {
          "output_type": "display_data",
          "data": {
            "text/plain": "Epochs:   0%|          | 0/30 [00:00<?, ?it/s]",
            "application/vnd.jupyter.widget-view+json": {
              "version_major": 2,
              "version_minor": 0,
              "model_id": "68ba95904c2440eaa773dcd514c19414"
            }
          },
          "metadata": {}
        },
        {
          "output_type": "display_data",
          "data": {
            "text/plain": "Epochs:   0%|          | 0/30 [00:00<?, ?it/s]",
            "application/vnd.jupyter.widget-view+json": {
              "version_major": 2,
              "version_minor": 0,
              "model_id": "87bc499908ba4b65a0c11ccd30c70d84"
            }
          },
          "metadata": {}
        },
        {
          "output_type": "display_data",
          "data": {
            "text/plain": "Epochs:   0%|          | 0/30 [00:00<?, ?it/s]",
            "application/vnd.jupyter.widget-view+json": {
              "version_major": 2,
              "version_minor": 0,
              "model_id": "58787134d8944f4d868aaa593672ed25"
            }
          },
          "metadata": {}
        },
        {
          "output_type": "display_data",
          "data": {
            "text/plain": "Epochs:   0%|          | 0/30 [00:00<?, ?it/s]",
            "application/vnd.jupyter.widget-view+json": {
              "version_major": 2,
              "version_minor": 0,
              "model_id": "c6542f2f057a43838f26c2cddce3c882"
            }
          },
          "metadata": {}
        },
        {
          "output_type": "display_data",
          "data": {
            "text/plain": "Epochs:   0%|          | 0/30 [00:00<?, ?it/s]",
            "application/vnd.jupyter.widget-view+json": {
              "version_major": 2,
              "version_minor": 0,
              "model_id": "1dbd48821280486980430d0147de57a8"
            }
          },
          "metadata": {}
        },
        {
          "output_type": "display_data",
          "data": {
            "text/plain": "Epochs:   0%|          | 0/30 [00:00<?, ?it/s]",
            "application/vnd.jupyter.widget-view+json": {
              "version_major": 2,
              "version_minor": 0,
              "model_id": "3fdc0c48760d45548ae7f6a02727506a"
            }
          },
          "metadata": {}
        },
        {
          "output_type": "display_data",
          "data": {
            "text/plain": "Epochs:   0%|          | 0/30 [00:00<?, ?it/s]",
            "application/vnd.jupyter.widget-view+json": {
              "version_major": 2,
              "version_minor": 0,
              "model_id": "b230f8dac9354746a2d910558819f746"
            }
          },
          "metadata": {}
        },
        {
          "output_type": "display_data",
          "data": {
            "text/plain": "Epochs:   0%|          | 0/30 [00:00<?, ?it/s]",
            "application/vnd.jupyter.widget-view+json": {
              "version_major": 2,
              "version_minor": 0,
              "model_id": "2c00749402fc4fa89efe9b131e75da51"
            }
          },
          "metadata": {}
        },
        {
          "output_type": "display_data",
          "data": {
            "text/plain": "Epochs:   0%|          | 0/30 [00:00<?, ?it/s]",
            "application/vnd.jupyter.widget-view+json": {
              "version_major": 2,
              "version_minor": 0,
              "model_id": "71a5f52765c644b4bf46eb5bae637f74"
            }
          },
          "metadata": {}
        },
        {
          "output_type": "display_data",
          "data": {
            "text/plain": "Epochs:   0%|          | 0/30 [00:00<?, ?it/s]",
            "application/vnd.jupyter.widget-view+json": {
              "version_major": 2,
              "version_minor": 0,
              "model_id": "9f3ff6d443e24725ac9d4cca1353fe54"
            }
          },
          "metadata": {}
        },
        {
          "name": "stdout",
          "text": "CPU times: user 4h 27min 57s, sys: 22.6 s, total: 4h 28min 20s\nWall time: 4h 29min 32s\n",
          "output_type": "stream"
        }
      ],
      "id": "dtS7vxaXsHSB"
    },
    {
      "cell_type": "code",
      "source": [
        "plt.figure(figsize=(20, 18))\n",
        "optuna.visualization.matplotlib.plot_optimization_history(study)\n",
        "plt.savefig('ResNet_NSGAII_HIST.pdf')"
      ],
      "metadata": {
        "execution": {
          "iopub.status.busy": "2022-05-13T09:56:13.305947Z",
          "iopub.execute_input": "2022-05-13T09:56:13.307294Z",
          "iopub.status.idle": "2022-05-13T09:56:13.952708Z",
          "shell.execute_reply.started": "2022-05-13T09:56:13.307253Z",
          "shell.execute_reply": "2022-05-13T09:56:13.952041Z"
        },
        "trusted": true,
        "id": "aNZ4iJ0TsHSD",
        "outputId": "2ef46c63-1ed9-42c8-be70-1d7aea7f86f3"
      },
      "execution_count": null,
      "outputs": [
        {
          "name": "stderr",
          "text": "/opt/conda/lib/python3.7/site-packages/ipykernel_launcher.py:2: ExperimentalWarning: plot_optimization_history is experimental (supported from v2.2.0). The interface can change in the future.\n  \n",
          "output_type": "stream"
        },
        {
          "output_type": "display_data",
          "data": {
            "text/plain": "<Figure size 1440x1296 with 0 Axes>"
          },
          "metadata": {}
        },
        {
          "output_type": "display_data",
          "data": {
            "text/plain": "<Figure size 432x288 with 1 Axes>",
            "image/png": "[encoded data removed]"
          },
          "metadata": {}
        }
      ],
      "id": "aNZ4iJ0TsHSD"
    },
    {
      "cell_type": "code",
      "source": [
        "print('ResNet, NSGA-II, best trial:')\n",
        "print(study.best_trial.params)\n",
        "print('ResNet, NSGA-II, best accuracy:')\n",
        "print(study.best_value)\n",
        "print('ResNet, NSGA-II, best trial number')\n",
        "print(study.best_trial.number)"
      ],
      "metadata": {
        "execution": {
          "iopub.status.busy": "2022-05-13T09:56:13.953991Z",
          "iopub.execute_input": "2022-05-13T09:56:13.954252Z",
          "iopub.status.idle": "2022-05-13T09:56:13.961297Z",
          "shell.execute_reply.started": "2022-05-13T09:56:13.954217Z",
          "shell.execute_reply": "2022-05-13T09:56:13.960526Z"
        },
        "trusted": true,
        "id": "VkLe_0K0sHSD",
        "outputId": "b6fb4dff-7768-4d62-ba15-d5c1d2817b7a"
      },
      "execution_count": null,
      "outputs": [
        {
          "name": "stdout",
          "text": "ResNet, NSGA-II, best trial:\n{'lr': 0.015059998239372178, 'optimizer': 'Adam', 'activation': 'LeakyReLU'}\nResNet, NSGA-II, best accuracy:\n0.814\nResNet, NSGA-II, best trial number\n5\n",
          "output_type": "stream"
        }
      ],
      "id": "VkLe_0K0sHSD"
    },
    {
      "cell_type": "code",
      "source": [
        "plt.figure(figsize=(20, 18))\n",
        "optuna.visualization.matplotlib.plot_contour(study, params=[\"lr\", \"optimizer\", \"activation\"])\n",
        "plt.savefig('ResNet_NSGAII_CP.pdf')"
      ],
      "metadata": {
        "execution": {
          "iopub.status.busy": "2022-05-13T09:56:13.963255Z",
          "iopub.execute_input": "2022-05-13T09:56:13.963746Z",
          "iopub.status.idle": "2022-05-13T09:56:47.797533Z",
          "shell.execute_reply.started": "2022-05-13T09:56:13.963708Z",
          "shell.execute_reply": "2022-05-13T09:56:47.796188Z"
        },
        "trusted": true,
        "id": "IoC8tUT7sHSE",
        "outputId": "1df5e860-d138-45d3-e82f-d3fa862953fb"
      },
      "execution_count": null,
      "outputs": [
        {
          "name": "stderr",
          "text": "/opt/conda/lib/python3.7/site-packages/ipykernel_launcher.py:2: ExperimentalWarning: plot_contour is experimental (supported from v2.2.0). The interface can change in the future.\n  \n",
          "output_type": "stream"
        },
        {
          "output_type": "display_data",
          "data": {
            "text/plain": "<Figure size 1440x1296 with 0 Axes>"
          },
          "metadata": {}
        },
        {
          "output_type": "display_data",
          "data": {
            "text/plain": "<Figure size 432x288 with 10 Axes>",
            "image/png": "[encoded data removed]"
          },
          "metadata": {}
        }
      ],
      "id": "IoC8tUT7sHSE"
    },
    {
      "cell_type": "code",
      "source": [
        "loss, acc = eval_test(study)\n",
        "print('ResNet, NSGA-II, accuracy on test:')\n",
        "print(acc)"
      ],
      "metadata": {
        "execution": {
          "iopub.status.busy": "2022-05-13T09:56:47.798973Z",
          "iopub.execute_input": "2022-05-13T09:56:47.799438Z",
          "iopub.status.idle": "2022-05-13T10:19:34.531773Z",
          "shell.execute_reply.started": "2022-05-13T09:56:47.799400Z",
          "shell.execute_reply": "2022-05-13T10:19:34.531050Z"
        },
        "trusted": true,
        "colab": {
          "referenced_widgets": [
            "5cb78f6ca047469f807b880c19e2e997"
          ]
        },
        "id": "mnCZ1H4asHSF",
        "outputId": "61dbc36e-bba1-4ffe-e25d-5f86c847224a"
      },
      "execution_count": null,
      "outputs": [
        {
          "output_type": "display_data",
          "data": {
            "text/plain": "Epochs:   0%|          | 0/30 [00:00<?, ?it/s]",
            "application/vnd.jupyter.widget-view+json": {
              "version_major": 2,
              "version_minor": 0,
              "model_id": "5cb78f6ca047469f807b880c19e2e997"
            }
          },
          "metadata": {}
        },
        {
          "name": "stdout",
          "text": "ResNet, NSGA-II, accuracy on test:\n0.7958\n",
          "output_type": "stream"
        }
      ],
      "id": "mnCZ1H4asHSF"
    },
    {
      "cell_type": "markdown",
      "source": [
        "# TPE"
      ],
      "metadata": {
        "id": "1_pDEv3gfVbQ"
      },
      "id": "1_pDEv3gfVbQ"
    },
    {
      "cell_type": "code",
      "execution_count": null,
      "id": "4e7548de",
      "metadata": {
        "cellId": "9ketxqsudwmr0ob5ibxcdn",
        "colab": {
          "referenced_widgets": [
            "41bd495660c0499e9c5ed378313b8a68",
            "d74e5376f5bd48478b8e96ada9c912e3",
            "fb2aa2e8ae814689ae526dbab6ced015",
            "559ab92047ac4335964eef724db6e5c3",
            "19c65a538fc74cd9ae351386b9e62504",
            "1545ac969cb54431a7bfbc6cd29ab594",
            "097d5b48f2e34b3da0c8b2a8848399b8",
            "62db8f2a43064d4bbbe4c44cbc2f2747",
            "93138f9a54d349a7b85da34d5417f3f1",
            "7f92d7ee81074424a80a2d4778ad0483",
            "2f6dcda8e28d46648346389a491a1fe0",
            "b83eb55d9ac24cc596462f4841ad512d"
          ]
        },
        "id": "4e7548de",
        "outputId": "da99e54a-ddda-4334-aafb-1ec084385430"
      },
      "outputs": [
        {
          "name": "stderr",
          "output_type": "stream",
          "text": [
            "\u001b[32m[I 2022-05-01 19:09:02,889]\u001b[0m A new study created in memory with name: no-name-9e6dba09-9ad3-41bd-93ac-c02d0d87f1f8\u001b[0m\n"
          ]
        },
        {
          "data": {
            "application/vnd.jupyter.widget-view+json": {
              "model_id": "41bd495660c0499e9c5ed378313b8a68",
              "version_major": 2,
              "version_minor": 0
            },
            "text/plain": [
              "HBox(children=(HTML(value='Epochs'), FloatProgress(value=0.0, max=30.0), HTML(value='')))"
            ]
          },
          "metadata": {},
          "output_type": "display_data"
        },
        {
          "name": "stdout",
          "output_type": "stream",
          "text": [
            "\n"
          ]
        },
        {
          "name": "stderr",
          "output_type": "stream",
          "text": [
            "\u001b[32m[I 2022-05-01 19:36:34,644]\u001b[0m Trial 0 finished with value: 0.6348 and parameters: {'lr': 0.0015945001845400104, 'optimizer': 'SGD', 'activation': 'ReLU'}. Best is trial 0 with value: 0.6348.\u001b[0m\n"
          ]
        },
        {
          "data": {
            "application/vnd.jupyter.widget-view+json": {
              "model_id": "d74e5376f5bd48478b8e96ada9c912e3",
              "version_major": 2,
              "version_minor": 0
            },
            "text/plain": [
              "HBox(children=(HTML(value='Epochs'), FloatProgress(value=0.0, max=30.0), HTML(value='')))"
            ]
          },
          "metadata": {},
          "output_type": "display_data"
        },
        {
          "name": "stdout",
          "output_type": "stream",
          "text": [
            "\n"
          ]
        },
        {
          "name": "stderr",
          "output_type": "stream",
          "text": [
            "\u001b[32m[I 2022-05-01 20:03:07,555]\u001b[0m Trial 1 finished with value: 0.8374 and parameters: {'lr': 0.0022219643831163016, 'optimizer': 'Adam', 'activation': 'LeakyReLU'}. Best is trial 1 with value: 0.8374.\u001b[0m\n"
          ]
        },
        {
          "data": {
            "application/vnd.jupyter.widget-view+json": {
              "model_id": "fb2aa2e8ae814689ae526dbab6ced015",
              "version_major": 2,
              "version_minor": 0
            },
            "text/plain": [
              "HBox(children=(HTML(value='Epochs'), FloatProgress(value=0.0, max=30.0), HTML(value='')))"
            ]
          },
          "metadata": {},
          "output_type": "display_data"
        },
        {
          "name": "stdout",
          "output_type": "stream",
          "text": [
            "\n"
          ]
        },
        {
          "name": "stderr",
          "output_type": "stream",
          "text": [
            "\u001b[32m[I 2022-05-01 20:29:39,847]\u001b[0m Trial 2 finished with value: 0.7936 and parameters: {'lr': 0.01060916159883671, 'optimizer': 'Adam', 'activation': 'LeakyReLU'}. Best is trial 1 with value: 0.8374.\u001b[0m\n"
          ]
        },
        {
          "data": {
            "application/vnd.jupyter.widget-view+json": {
              "model_id": "559ab92047ac4335964eef724db6e5c3",
              "version_major": 2,
              "version_minor": 0
            },
            "text/plain": [
              "HBox(children=(HTML(value='Epochs'), FloatProgress(value=0.0, max=30.0), HTML(value='')))"
            ]
          },
          "metadata": {},
          "output_type": "display_data"
        },
        {
          "name": "stdout",
          "output_type": "stream",
          "text": [
            "\n"
          ]
        },
        {
          "name": "stderr",
          "output_type": "stream",
          "text": [
            "\u001b[32m[I 2022-05-01 20:55:56,495]\u001b[0m Trial 3 finished with value: 0.7538 and parameters: {'lr': 0.009192022785404248, 'optimizer': 'SGD', 'activation': 'ReLU'}. Best is trial 1 with value: 0.8374.\u001b[0m\n"
          ]
        },
        {
          "data": {
            "application/vnd.jupyter.widget-view+json": {
              "model_id": "19c65a538fc74cd9ae351386b9e62504",
              "version_major": 2,
              "version_minor": 0
            },
            "text/plain": [
              "HBox(children=(HTML(value='Epochs'), FloatProgress(value=0.0, max=30.0), HTML(value='')))"
            ]
          },
          "metadata": {},
          "output_type": "display_data"
        },
        {
          "name": "stdout",
          "output_type": "stream",
          "text": [
            "\n"
          ]
        },
        {
          "name": "stderr",
          "output_type": "stream",
          "text": [
            "\u001b[32m[I 2022-05-01 21:22:31,347]\u001b[0m Trial 4 finished with value: 0.8382 and parameters: {'lr': 0.001646079823086987, 'optimizer': 'Adam', 'activation': 'ReLU'}. Best is trial 4 with value: 0.8382.\u001b[0m\n"
          ]
        },
        {
          "data": {
            "application/vnd.jupyter.widget-view+json": {
              "model_id": "1545ac969cb54431a7bfbc6cd29ab594",
              "version_major": 2,
              "version_minor": 0
            },
            "text/plain": [
              "HBox(children=(HTML(value='Epochs'), FloatProgress(value=0.0, max=30.0), HTML(value='')))"
            ]
          },
          "metadata": {},
          "output_type": "display_data"
        },
        {
          "name": "stdout",
          "output_type": "stream",
          "text": [
            "\n"
          ]
        },
        {
          "name": "stderr",
          "output_type": "stream",
          "text": [
            "\u001b[32m[I 2022-05-01 21:48:45,276]\u001b[0m Trial 5 finished with value: 0.7028 and parameters: {'lr': 0.004514413570023949, 'optimizer': 'SGD', 'activation': 'ReLU'}. Best is trial 4 with value: 0.8382.\u001b[0m\n"
          ]
        },
        {
          "data": {
            "application/vnd.jupyter.widget-view+json": {
              "model_id": "097d5b48f2e34b3da0c8b2a8848399b8",
              "version_major": 2,
              "version_minor": 0
            },
            "text/plain": [
              "HBox(children=(HTML(value='Epochs'), FloatProgress(value=0.0, max=30.0), HTML(value='')))"
            ]
          },
          "metadata": {},
          "output_type": "display_data"
        },
        {
          "name": "stdout",
          "output_type": "stream",
          "text": [
            "\n"
          ]
        },
        {
          "name": "stderr",
          "output_type": "stream",
          "text": [
            "\u001b[32m[I 2022-05-01 22:15:19,047]\u001b[0m Trial 6 finished with value: 0.7922 and parameters: {'lr': 0.008159975330871696, 'optimizer': 'Adam', 'activation': 'LeakyReLU'}. Best is trial 4 with value: 0.8382.\u001b[0m\n"
          ]
        },
        {
          "data": {
            "application/vnd.jupyter.widget-view+json": {
              "model_id": "62db8f2a43064d4bbbe4c44cbc2f2747",
              "version_major": 2,
              "version_minor": 0
            },
            "text/plain": [
              "HBox(children=(HTML(value='Epochs'), FloatProgress(value=0.0, max=30.0), HTML(value='')))"
            ]
          },
          "metadata": {},
          "output_type": "display_data"
        },
        {
          "name": "stdout",
          "output_type": "stream",
          "text": [
            "\n"
          ]
        },
        {
          "name": "stderr",
          "output_type": "stream",
          "text": [
            "\u001b[32m[I 2022-05-01 22:41:50,847]\u001b[0m Trial 7 finished with value: 0.8198 and parameters: {'lr': 0.0023034515971294485, 'optimizer': 'Adam', 'activation': 'ReLU'}. Best is trial 4 with value: 0.8382.\u001b[0m\n"
          ]
        },
        {
          "data": {
            "application/vnd.jupyter.widget-view+json": {
              "model_id": "93138f9a54d349a7b85da34d5417f3f1",
              "version_major": 2,
              "version_minor": 0
            },
            "text/plain": [
              "HBox(children=(HTML(value='Epochs'), FloatProgress(value=0.0, max=30.0), HTML(value='')))"
            ]
          },
          "metadata": {},
          "output_type": "display_data"
        },
        {
          "name": "stdout",
          "output_type": "stream",
          "text": [
            "\n"
          ]
        },
        {
          "name": "stderr",
          "output_type": "stream",
          "text": [
            "\u001b[32m[I 2022-05-01 23:08:19,046]\u001b[0m Trial 8 finished with value: 0.8262 and parameters: {'lr': 0.003935089807036874, 'optimizer': 'Adam', 'activation': 'LeakyReLU'}. Best is trial 4 with value: 0.8382.\u001b[0m\n"
          ]
        },
        {
          "data": {
            "application/vnd.jupyter.widget-view+json": {
              "model_id": "7f92d7ee81074424a80a2d4778ad0483",
              "version_major": 2,
              "version_minor": 0
            },
            "text/plain": [
              "HBox(children=(HTML(value='Epochs'), FloatProgress(value=0.0, max=30.0), HTML(value='')))"
            ]
          },
          "metadata": {},
          "output_type": "display_data"
        },
        {
          "name": "stdout",
          "output_type": "stream",
          "text": [
            "\n"
          ]
        },
        {
          "name": "stderr",
          "output_type": "stream",
          "text": [
            "\u001b[32m[I 2022-05-01 23:34:32,619]\u001b[0m Trial 9 finished with value: 0.7398 and parameters: {'lr': 0.008515242186075859, 'optimizer': 'SGD', 'activation': 'ReLU'}. Best is trial 4 with value: 0.8382.\u001b[0m\n"
          ]
        },
        {
          "data": {
            "application/vnd.jupyter.widget-view+json": {
              "model_id": "2f6dcda8e28d46648346389a491a1fe0",
              "version_major": 2,
              "version_minor": 0
            },
            "text/plain": [
              "HBox(children=(HTML(value='Epochs'), FloatProgress(value=0.0, max=30.0), HTML(value='')))"
            ]
          },
          "metadata": {},
          "output_type": "display_data"
        },
        {
          "name": "stdout",
          "output_type": "stream",
          "text": [
            "\n"
          ]
        },
        {
          "name": "stderr",
          "output_type": "stream",
          "text": [
            "\u001b[32m[I 2022-05-02 00:00:39,935]\u001b[0m Trial 10 finished with value: 0.7714 and parameters: {'lr': 0.06235449381439291, 'optimizer': 'Adam', 'activation': 'ReLU'}. Best is trial 4 with value: 0.8382.\u001b[0m\n"
          ]
        },
        {
          "data": {
            "application/vnd.jupyter.widget-view+json": {
              "model_id": "b83eb55d9ac24cc596462f4841ad512d",
              "version_major": 2,
              "version_minor": 0
            },
            "text/plain": [
              "HBox(children=(HTML(value='Epochs'), FloatProgress(value=0.0, max=30.0), HTML(value='')))"
            ]
          },
          "metadata": {},
          "output_type": "display_data"
        },
        {
          "name": "stdout",
          "output_type": "stream",
          "text": [
            "\n"
          ]
        },
        {
          "name": "stderr",
          "output_type": "stream",
          "text": [
            "\u001b[32m[I 2022-05-02 00:27:14,893]\u001b[0m Trial 11 finished with value: 0.8416 and parameters: {'lr': 0.001118808219084845, 'optimizer': 'Adam', 'activation': 'LeakyReLU'}. Best is trial 11 with value: 0.8416.\u001b[0m\n"
          ]
        },
        {
          "name": "stdout",
          "output_type": "stream",
          "text": [
            "CPU times: user 3h 46min 55s, sys: 1h 33min 28s, total: 5h 20min 24s\n",
            "Wall time: 5h 18min 16s\n"
          ]
        }
      ],
      "source": [
        "%%time\n",
        "study = optuna.create_study(direction='maximize', sampler=optuna.samplers.TPESampler())\n",
        "study.optimize(objective, n_trials=12)"
      ]
    },
    {
      "cell_type": "code",
      "execution_count": null,
      "id": "248f9216",
      "metadata": {
        "cellId": "int1qx218km9xjzfaegc0s",
        "id": "248f9216",
        "outputId": "362e22ff-f0df-494c-d693-03bc2a5d83e2"
      },
      "outputs": [
        {
          "name": "stderr",
          "output_type": "stream",
          "text": [
            "<ipython-input-1-07d5f4f9f4d7>:2: ExperimentalWarning: plot_optimization_history is experimental (supported from v2.2.0). The interface can change in the future.\n",
            "  optuna.visualization.matplotlib.plot_optimization_history(study)\n"
          ]
        },
        {
          "data": {
            "text/plain": [
              "<Figure size 1440x1296 with 0 Axes>"
            ]
          },
          "metadata": {},
          "output_type": "display_data"
        },
        {
          "data": {
            "image/png": "[encoded data removed]",
            "text/plain": [
              "<Figure size 432x288 with 1 Axes>"
            ]
          },
          "metadata": {},
          "output_type": "display_data"
        }
      ],
      "source": [
        "plt.figure(figsize=(20, 18))\n",
        "optuna.visualization.matplotlib.plot_optimization_history(study)\n",
        "plt.savefig('ResNet_TPE_HIST.pdf')"
      ]
    },
    {
      "cell_type": "code",
      "execution_count": null,
      "id": "f30e3de9",
      "metadata": {
        "cellId": "228k4bg0jbidpu86fxo6p",
        "id": "f30e3de9",
        "outputId": "d052cda5-f398-4c28-d670-2b8b05da3535"
      },
      "outputs": [
        {
          "name": "stdout",
          "output_type": "stream",
          "text": [
            "ResNet, TPE, best trial:\n",
            "{'lr': 0.001118808219084845, 'optimizer': 'Adam', 'activation': 'LeakyReLU'}\n",
            "ResNet, TPE, best accuracy:\n",
            "0.8416\n",
            "ResNet, TPE, best trial number\n",
            "11\n"
          ]
        }
      ],
      "source": [
        "print('ResNet, TPE, best trial:')\n",
        "print(study.best_trial.params)\n",
        "print('ResNet, TPE, best accuracy:')\n",
        "print(study.best_value)\n",
        "print('ResNet, TPE, best trial number')\n",
        "print(study.best_trial.number)"
      ]
    },
    {
      "cell_type": "code",
      "execution_count": null,
      "id": "6b287dfc",
      "metadata": {
        "cellId": "q7qkk14hgqskdaj355g4r",
        "id": "6b287dfc",
        "outputId": "621cf99d-5424-422e-fc19-2a9c7b9880a3"
      },
      "outputs": [
        {
          "name": "stderr",
          "output_type": "stream",
          "text": [
            "<ipython-input-3-ae1d09c0b930>:2: ExperimentalWarning: plot_contour is experimental (supported from v2.2.0). The interface can change in the future.\n",
            "  optuna.visualization.matplotlib.plot_contour(study, params=[\"lr\", \"optimizer\", \"activation\"])\n",
            "\u001b[33m[W 2022-05-02 00:28:09,200]\u001b[0m Output figures of this Matplotlib-based `plot_contour` function would be different from those of the Plotly-based `plot_contour`.\u001b[0m\n"
          ]
        },
        {
          "data": {
            "text/plain": [
              "<Figure size 1440x1296 with 0 Axes>"
            ]
          },
          "metadata": {},
          "output_type": "display_data"
        },
        {
          "data": {
            "image/png": "[encoded data removed]",
            "text/plain": [
              "<Figure size 432x288 with 10 Axes>"
            ]
          },
          "metadata": {},
          "output_type": "display_data"
        }
      ],
      "source": [
        "plt.figure(figsize=(20, 18))\n",
        "optuna.visualization.matplotlib.plot_contour(study, params=[\"lr\", \"optimizer\", \"activation\"])\n",
        "plt.savefig('ResNet_TPE_CP.pdf')"
      ]
    },
    {
      "cell_type": "code",
      "execution_count": null,
      "id": "eda27c41",
      "metadata": {
        "cellId": "td0l836g8ebqu7o191nr7",
        "colab": {
          "referenced_widgets": [
            "cef53d8be6b24fa088e55f1c1ccd36db"
          ]
        },
        "id": "eda27c41",
        "outputId": "efb4be8e-603c-4daa-8c6a-d2df7d95527b"
      },
      "outputs": [
        {
          "data": {
            "application/vnd.jupyter.widget-view+json": {
              "model_id": "cef53d8be6b24fa088e55f1c1ccd36db",
              "version_major": 2,
              "version_minor": 0
            },
            "text/plain": [
              "HBox(children=(HTML(value='Epochs'), FloatProgress(value=0.0, max=30.0), HTML(value='')))"
            ]
          },
          "metadata": {},
          "output_type": "display_data"
        },
        {
          "name": "stdout",
          "output_type": "stream",
          "text": [
            "\n",
            "ResNet, CMA-ES, accuracy on test:\n",
            "0.8286\n"
          ]
        }
      ],
      "source": [
        "loss, acc = eval_test(study)\n",
        "print('ResNet, CMA-ES, accuracy on test:')\n",
        "print(acc)"
      ]
    },
    {
      "cell_type": "markdown",
      "source": [
        "# CMA-ES"
      ],
      "metadata": {
        "id": "eY7YnHuDgCyh"
      },
      "id": "eY7YnHuDgCyh"
    },
    {
      "cell_type": "code",
      "source": [
        "%%time\n",
        "study = optuna.create_study(direction='maximize', sampler=optuna.samplers.CmaEsSampler())\n",
        "study.optimize(objective, n_trials=12)"
      ],
      "metadata": {
        "execution": {
          "iopub.status.busy": "2022-05-01T18:52:49.598610Z",
          "iopub.execute_input": "2022-05-01T18:52:49.598887Z",
          "iopub.status.idle": "2022-05-01T23:07:07.774799Z",
          "shell.execute_reply.started": "2022-05-01T18:52:49.598854Z",
          "shell.execute_reply": "2022-05-01T23:07:07.774006Z"
        },
        "trusted": true,
        "colab": {
          "referenced_widgets": [
            "2d43474bdade46149cb9dff3fd738ddb",
            "ad19201136f047d9bcad529155b621c0",
            "8fbbeeca52044b31a4fa46e3cd00cdf8",
            "79def68ab42e4b388954172fe7cb2081",
            "c4838d8cb6b749c39b6795be95829bbd",
            "8238359a09b346779f2ec4eb56130b65",
            "0a101223e7da448c90ef5a5e425a7966",
            "0fa99851c67c4ebba548eaff3e676458",
            "f66f4d9d258b4442905de236d352a83a",
            "28c8c05ba768460997693551eab8dcbf",
            "ac018ffe5a444b61a03ac3cc241ebffe",
            "a66f8ee829494917a32f8ed2984d80e5"
          ]
        },
        "id": "HGliQkQsgCyk",
        "outputId": "6a8c54f6-c8eb-447e-afb5-a54a18d788b3"
      },
      "execution_count": null,
      "outputs": [
        {
          "output_type": "display_data",
          "data": {
            "text/plain": "Epochs:   0%|          | 0/30 [00:00<?, ?it/s]",
            "application/vnd.jupyter.widget-view+json": {
              "version_major": 2,
              "version_minor": 0,
              "model_id": "2d43474bdade46149cb9dff3fd738ddb"
            }
          },
          "metadata": {}
        },
        {
          "output_type": "display_data",
          "data": {
            "text/plain": "Epochs:   0%|          | 0/30 [00:00<?, ?it/s]",
            "application/vnd.jupyter.widget-view+json": {
              "version_major": 2,
              "version_minor": 0,
              "model_id": "ad19201136f047d9bcad529155b621c0"
            }
          },
          "metadata": {}
        },
        {
          "output_type": "display_data",
          "data": {
            "text/plain": "Epochs:   0%|          | 0/30 [00:00<?, ?it/s]",
            "application/vnd.jupyter.widget-view+json": {
              "version_major": 2,
              "version_minor": 0,
              "model_id": "8fbbeeca52044b31a4fa46e3cd00cdf8"
            }
          },
          "metadata": {}
        },
        {
          "output_type": "display_data",
          "data": {
            "text/plain": "Epochs:   0%|          | 0/30 [00:00<?, ?it/s]",
            "application/vnd.jupyter.widget-view+json": {
              "version_major": 2,
              "version_minor": 0,
              "model_id": "79def68ab42e4b388954172fe7cb2081"
            }
          },
          "metadata": {}
        },
        {
          "output_type": "display_data",
          "data": {
            "text/plain": "Epochs:   0%|          | 0/30 [00:00<?, ?it/s]",
            "application/vnd.jupyter.widget-view+json": {
              "version_major": 2,
              "version_minor": 0,
              "model_id": "c4838d8cb6b749c39b6795be95829bbd"
            }
          },
          "metadata": {}
        },
        {
          "output_type": "display_data",
          "data": {
            "text/plain": "Epochs:   0%|          | 0/30 [00:00<?, ?it/s]",
            "application/vnd.jupyter.widget-view+json": {
              "version_major": 2,
              "version_minor": 0,
              "model_id": "8238359a09b346779f2ec4eb56130b65"
            }
          },
          "metadata": {}
        },
        {
          "output_type": "display_data",
          "data": {
            "text/plain": "Epochs:   0%|          | 0/30 [00:00<?, ?it/s]",
            "application/vnd.jupyter.widget-view+json": {
              "version_major": 2,
              "version_minor": 0,
              "model_id": "0a101223e7da448c90ef5a5e425a7966"
            }
          },
          "metadata": {}
        },
        {
          "output_type": "display_data",
          "data": {
            "text/plain": "Epochs:   0%|          | 0/30 [00:00<?, ?it/s]",
            "application/vnd.jupyter.widget-view+json": {
              "version_major": 2,
              "version_minor": 0,
              "model_id": "0fa99851c67c4ebba548eaff3e676458"
            }
          },
          "metadata": {}
        },
        {
          "output_type": "display_data",
          "data": {
            "text/plain": "Epochs:   0%|          | 0/30 [00:00<?, ?it/s]",
            "application/vnd.jupyter.widget-view+json": {
              "version_major": 2,
              "version_minor": 0,
              "model_id": "f66f4d9d258b4442905de236d352a83a"
            }
          },
          "metadata": {}
        },
        {
          "output_type": "display_data",
          "data": {
            "text/plain": "Epochs:   0%|          | 0/30 [00:00<?, ?it/s]",
            "application/vnd.jupyter.widget-view+json": {
              "version_major": 2,
              "version_minor": 0,
              "model_id": "28c8c05ba768460997693551eab8dcbf"
            }
          },
          "metadata": {}
        },
        {
          "output_type": "display_data",
          "data": {
            "text/plain": "Epochs:   0%|          | 0/30 [00:00<?, ?it/s]",
            "application/vnd.jupyter.widget-view+json": {
              "version_major": 2,
              "version_minor": 0,
              "model_id": "ac018ffe5a444b61a03ac3cc241ebffe"
            }
          },
          "metadata": {}
        },
        {
          "output_type": "display_data",
          "data": {
            "text/plain": "Epochs:   0%|          | 0/30 [00:00<?, ?it/s]",
            "application/vnd.jupyter.widget-view+json": {
              "version_major": 2,
              "version_minor": 0,
              "model_id": "a66f8ee829494917a32f8ed2984d80e5"
            }
          },
          "metadata": {}
        },
        {
          "name": "stdout",
          "text": "CPU times: user 4h 13min, sys: 18.8 s, total: 4h 13min 18s\nWall time: 4h 14min 18s\n",
          "output_type": "stream"
        }
      ],
      "id": "HGliQkQsgCyk"
    },
    {
      "cell_type": "code",
      "source": [
        "plt.figure(figsize=(20, 18))\n",
        "optuna.visualization.matplotlib.plot_optimization_history(study)\n",
        "plt.savefig('ResNet_CMAES_HIST.pdf')"
      ],
      "metadata": {
        "execution": {
          "iopub.status.busy": "2022-05-01T23:07:07.776491Z",
          "iopub.execute_input": "2022-05-01T23:07:07.777146Z",
          "iopub.status.idle": "2022-05-01T23:07:08.329864Z",
          "shell.execute_reply.started": "2022-05-01T23:07:07.777104Z",
          "shell.execute_reply": "2022-05-01T23:07:08.329163Z"
        },
        "trusted": true,
        "id": "SW5tsFuYgCyl",
        "outputId": "f915658d-061f-487b-e807-d155ae0a9aec"
      },
      "execution_count": null,
      "outputs": [
        {
          "name": "stderr",
          "text": "/opt/conda/lib/python3.7/site-packages/ipykernel_launcher.py:2: ExperimentalWarning: plot_optimization_history is experimental (supported from v2.2.0). The interface can change in the future.\n  \n",
          "output_type": "stream"
        },
        {
          "output_type": "display_data",
          "data": {
            "text/plain": "<Figure size 1440x1296 with 0 Axes>"
          },
          "metadata": {}
        },
        {
          "output_type": "display_data",
          "data": {
            "text/plain": "<Figure size 432x288 with 1 Axes>",
            "image/png": "[encoded data removed]"
          },
          "metadata": {}
        }
      ],
      "id": "SW5tsFuYgCyl"
    },
    {
      "cell_type": "code",
      "source": [
        "print('ResNet, CMA-ES, best trial:')\n",
        "print(study.best_trial.params)\n",
        "print('ResNet, CMA-ES, best accuracy:')\n",
        "print(study.best_value)\n",
        "print('ResNet, CMA-ES, best trial number')\n",
        "print(study.best_trial.number)"
      ],
      "metadata": {
        "execution": {
          "iopub.status.busy": "2022-05-01T23:35:03.492005Z",
          "iopub.execute_input": "2022-05-01T23:35:03.492638Z",
          "iopub.status.idle": "2022-05-01T23:35:03.500114Z",
          "shell.execute_reply.started": "2022-05-01T23:35:03.492600Z",
          "shell.execute_reply": "2022-05-01T23:35:03.499378Z"
        },
        "trusted": true,
        "id": "fFTXO8rugCym",
        "outputId": "21162139-7562-4afb-8c78-aa83eecfc8e4"
      },
      "execution_count": null,
      "outputs": [
        {
          "name": "stdout",
          "text": "ResNet, CMA-ES, best trial:\n{'lr': 0.0010208052058606053, 'optimizer': 'Adam', 'activation': 'LeakyReLU'}\nResNet, CMA-ES, best accuracy:\n0.8446\nResNet, CMA-ES, best trial number\n1\n",
          "output_type": "stream"
        }
      ],
      "id": "fFTXO8rugCym"
    },
    {
      "cell_type": "code",
      "source": [
        "plt.figure(figsize=(20, 18))\n",
        "optuna.visualization.matplotlib.plot_contour(study, params=[\"lr\", \"optimizer\", \"activation\"])\n",
        "plt.savefig('ResNet_CMAES_CP.pdf')"
      ],
      "metadata": {
        "execution": {
          "iopub.status.busy": "2022-05-01T23:07:08.341670Z",
          "iopub.execute_input": "2022-05-01T23:07:08.341894Z",
          "iopub.status.idle": "2022-05-01T23:07:42.930846Z",
          "shell.execute_reply.started": "2022-05-01T23:07:08.341863Z",
          "shell.execute_reply": "2022-05-01T23:07:42.930154Z"
        },
        "trusted": true,
        "id": "--3-vGPGgCyn",
        "outputId": "d7125e6d-a72c-4e1b-e794-81d79bc11cd6"
      },
      "execution_count": null,
      "outputs": [
        {
          "name": "stderr",
          "text": "/opt/conda/lib/python3.7/site-packages/ipykernel_launcher.py:2: ExperimentalWarning: plot_contour is experimental (supported from v2.2.0). The interface can change in the future.\n  \n",
          "output_type": "stream"
        },
        {
          "output_type": "display_data",
          "data": {
            "text/plain": "<Figure size 1440x1296 with 0 Axes>"
          },
          "metadata": {}
        },
        {
          "output_type": "display_data",
          "data": {
            "text/plain": "<Figure size 432x288 with 10 Axes>",
            "image/png": "[encoded data removed]"
          },
          "metadata": {}
        }
      ],
      "id": "--3-vGPGgCyn"
    },
    {
      "cell_type": "code",
      "source": [
        "plt.figure(figsize=(20, 18))\n",
        "optuna.visualization.matplotlib.plot_contour(study, params=[\"lr\", \"optimizer\", \"activation\"])\n",
        "plt.savefig('ResNet_CMAES_CP.pdf')"
      ],
      "metadata": {
        "execution": {
          "iopub.status.busy": "2022-05-01T23:07:08.341670Z",
          "iopub.execute_input": "2022-05-01T23:07:08.341894Z",
          "iopub.status.idle": "2022-05-01T23:07:42.930846Z",
          "shell.execute_reply.started": "2022-05-01T23:07:08.341863Z",
          "shell.execute_reply": "2022-05-01T23:07:42.930154Z"
        },
        "trusted": true,
        "outputId": "d7125e6d-a72c-4e1b-e794-81d79bc11cd6",
        "id": "wyvc9vW0tGi3"
      },
      "execution_count": null,
      "outputs": [
        {
          "name": "stderr",
          "text": "/opt/conda/lib/python3.7/site-packages/ipykernel_launcher.py:2: ExperimentalWarning: plot_contour is experimental (supported from v2.2.0). The interface can change in the future.\n  \n",
          "output_type": "stream"
        },
        {
          "output_type": "display_data",
          "data": {
            "text/plain": "<Figure size 1440x1296 with 0 Axes>"
          },
          "metadata": {}
        },
        {
          "output_type": "display_data",
          "data": {
            "text/plain": "<Figure size 432x288 with 10 Axes>",
            "image/png": "[encoded data removed]"
          },
          "metadata": {}
        }
      ],
      "id": "wyvc9vW0tGi3"
    },
    {
      "cell_type": "code",
      "source": [
        "loss, acc = eval_test(study)\n",
        "print('ResNet, CMA-ES, accuracy on test:')\n",
        "print(acc)"
      ],
      "metadata": {
        "execution": {
          "iopub.status.busy": "2022-05-01T23:13:27.986925Z",
          "iopub.execute_input": "2022-05-01T23:13:27.987793Z",
          "iopub.status.idle": "2022-05-01T23:34:53.392489Z",
          "shell.execute_reply.started": "2022-05-01T23:13:27.987751Z",
          "shell.execute_reply": "2022-05-01T23:34:53.391750Z"
        },
        "trusted": true,
        "colab": {
          "referenced_widgets": [
            "e54afa205ec443b6a6bfaa30613ac317"
          ]
        },
        "id": "ui00t9_hgCyo",
        "outputId": "f547977a-1dd5-4077-c8f0-7f283f44191d"
      },
      "execution_count": null,
      "outputs": [
        {
          "output_type": "display_data",
          "data": {
            "text/plain": "Epochs:   0%|          | 0/30 [00:00<?, ?it/s]",
            "application/vnd.jupyter.widget-view+json": {
              "version_major": 2,
              "version_minor": 0,
              "model_id": "e54afa205ec443b6a6bfaa30613ac317"
            }
          },
          "metadata": {}
        },
        {
          "name": "stdout",
          "text": "ResNet, CMA-ES, accuracy on test:\n0.8404\n",
          "output_type": "stream"
        }
      ],
      "id": "ui00t9_hgCyo"
    },
    {
      "cell_type": "markdown",
      "id": "6055e437",
      "metadata": {
        "cellId": "botdh4c0eypqw7714kacnl",
        "id": "6055e437"
      },
      "source": [
        "# Bayesian optimization"
      ]
    },
    {
      "cell_type": "code",
      "execution_count": null,
      "id": "493c49d9",
      "metadata": {
        "cellId": "mi3pa3skxc0t3ebiu5x8c",
        "id": "493c49d9",
        "outputId": "96cbbead-3ae5-437d-c113-97be284b4d92"
      },
      "outputs": [
        {
          "name": "stdout",
          "output_type": "stream",
          "text": [
            "Defaulting to user installation because normal site-packages is not writeable\n",
            "Collecting scikit-optimize\n",
            "  Downloading scikit_optimize-0.9.0-py2.py3-none-any.whl (100 kB)\n",
            "     |████████████████████████████████| 100 kB 2.2 MB/s           \n",
            "\u001b[?25hRequirement already satisfied: scikit-learn>=0.20.0 in /usr/local/lib/python3.8/dist-packages (from scikit-optimize) (0.22.1)\n",
            "Collecting pyaml>=16.9\n",
            "  Downloading pyaml-21.10.1-py2.py3-none-any.whl (24 kB)\n",
            "Requirement already satisfied: joblib>=0.11 in /usr/local/lib/python3.8/dist-packages (from scikit-optimize) (1.1.0)\n",
            "Requirement already satisfied: scipy>=0.19.1 in /usr/local/lib/python3.8/dist-packages (from scikit-optimize) (1.4.1)\n",
            "Requirement already satisfied: numpy>=1.13.3 in /kernel/fallback/lib/python3.8/site-packages (from scikit-optimize) (1.19.4)\n",
            "Requirement already satisfied: PyYAML in /usr/local/lib/python3.8/dist-packages (from pyaml>=16.9->scikit-optimize) (5.3.1)\n",
            "Installing collected packages: pyaml, scikit-optimize\n",
            "Successfully installed pyaml-21.10.1 scikit-optimize-0.9.0\n",
            "\u001b[33mWARNING: You are using pip version 21.3.1; however, version 22.0.4 is available.\n",
            "You should consider upgrading via the '/usr/local/bin/python3 -m pip install --upgrade pip' command.\u001b[0m\n"
          ]
        }
      ],
      "source": [
        "%pip install scikit-optimize"
      ]
    },
    {
      "cell_type": "code",
      "execution_count": null,
      "id": "d8d7f714",
      "metadata": {
        "cellId": "48kspduldroolu2wa5f729",
        "id": "d8d7f714"
      },
      "outputs": [],
      "source": [
        "from skopt import BayesSearchCV, gp_minimize\n",
        "from skopt.plots import plot_objective, plot_convergence, plot_gaussian_process, plot_evaluations\n",
        "from skopt.space import Real, Categorical, Integer"
      ]
    },
    {
      "cell_type": "code",
      "execution_count": null,
      "id": "cdfc15ad",
      "metadata": {
        "cellId": "5w3ux3xh28y1tbzdtnv9yc",
        "id": "cdfc15ad"
      },
      "outputs": [],
      "source": [
        "space = [Categorical(['ReLU', 'LeakyReLU'], name='activation'),\n",
        "         Categorical(['Adam', 'SGD'], name='optimizer'),\n",
        "         Real(1e-3, 1e-1, 'log-uniform', name='lr')\n",
        "]"
      ]
    },
    {
      "cell_type": "code",
      "execution_count": null,
      "id": "4ec3fffd",
      "metadata": {
        "cellId": "jfrboxyeb3ojj49w6aaakc",
        "id": "4ec3fffd"
      },
      "outputs": [],
      "source": [
        "def objective(params):\n",
        "    param_dict = {dim.name: val for dim, val in zip(space, params)}\n",
        "    lr = param_dict['lr']\n",
        "    if param_dict['activation'] == 'ReLU':\n",
        "        activation = F.relu\n",
        "    elif param_dict['activation'] == 'LeakyReLU':\n",
        "        activation = F.leaky_relu\n",
        "    model = ResNet18(activation)\n",
        "    model.to(device)\n",
        "    model.device = device\n",
        "    loss_fn = nn.CrossEntropyLoss()\n",
        "    cb = CallBack(evaluate)\n",
        "    if param_dict['optimizer'] == 'Adam':\n",
        "        optimizer = torch.optim.Adam(model.parameters(), lr=lr)\n",
        "    elif param_dict['optimizer'] == 'SGD':\n",
        "        optimizer = torch.optim.SGD(model.parameters(), lr=lr)\n",
        "    \n",
        "    train_full(model, train_dataloader, val_dataloader, loss_fn, optimizer, n_epochs=30, callback=cb)\n",
        "    \n",
        "    loss, acc = evaluate(model, val_dataloader, loss_fn)\n",
        "    return -acc"
      ]
    },
    {
      "cell_type": "code",
      "execution_count": null,
      "id": "ef1568a5",
      "metadata": {
        "cellId": "fwip6nt9p2cha8lb9hlsrf",
        "colab": {
          "referenced_widgets": [
            "5f63e5faf1484a48af7ad9276b9f256e",
            "d8ea4171ec1c4f74858e7181608e761d",
            "c25fe0615ff74ca4b61c0ddd24437b6c",
            "c863e018d28e497e8048c5d87ccbb5c2",
            "e98f80e50aa74f2a80babac7da37c04b",
            "8f21ae1d0bcf45e586b8443276ba9f81",
            "ffd3bda919364002a8a219a9230f02f4",
            "fa2c81c161614e3bab89222fe48eb79b",
            "30cbe2deff74460eb71eedb182060420",
            "cb9e040ab24d45ecb701a6e0553eb5bf",
            "65c03c126dd24d8b959eb52f2b900c10",
            "59ad333906e04b8789875daea0f6989c"
          ]
        },
        "id": "ef1568a5",
        "outputId": "f4e79307-b04c-42f6-fc08-1082168d876e"
      },
      "outputs": [
        {
          "data": {
            "application/vnd.jupyter.widget-view+json": {
              "model_id": "5f63e5faf1484a48af7ad9276b9f256e",
              "version_major": 2,
              "version_minor": 0
            },
            "text/plain": [
              "HBox(children=(HTML(value='Epochs'), FloatProgress(value=0.0, max=30.0), HTML(value='')))"
            ]
          },
          "metadata": {},
          "output_type": "display_data"
        },
        {
          "name": "stdout",
          "output_type": "stream",
          "text": [
            "\n"
          ]
        },
        {
          "data": {
            "application/vnd.jupyter.widget-view+json": {
              "model_id": "d8ea4171ec1c4f74858e7181608e761d",
              "version_major": 2,
              "version_minor": 0
            },
            "text/plain": [
              "HBox(children=(HTML(value='Epochs'), FloatProgress(value=0.0, max=30.0), HTML(value='')))"
            ]
          },
          "metadata": {},
          "output_type": "display_data"
        },
        {
          "name": "stdout",
          "output_type": "stream",
          "text": [
            "\n"
          ]
        },
        {
          "data": {
            "application/vnd.jupyter.widget-view+json": {
              "model_id": "c25fe0615ff74ca4b61c0ddd24437b6c",
              "version_major": 2,
              "version_minor": 0
            },
            "text/plain": [
              "HBox(children=(HTML(value='Epochs'), FloatProgress(value=0.0, max=30.0), HTML(value='')))"
            ]
          },
          "metadata": {},
          "output_type": "display_data"
        },
        {
          "name": "stdout",
          "output_type": "stream",
          "text": [
            "\n"
          ]
        },
        {
          "data": {
            "application/vnd.jupyter.widget-view+json": {
              "model_id": "c863e018d28e497e8048c5d87ccbb5c2",
              "version_major": 2,
              "version_minor": 0
            },
            "text/plain": [
              "HBox(children=(HTML(value='Epochs'), FloatProgress(value=0.0, max=30.0), HTML(value='')))"
            ]
          },
          "metadata": {},
          "output_type": "display_data"
        },
        {
          "name": "stdout",
          "output_type": "stream",
          "text": [
            "\n"
          ]
        },
        {
          "data": {
            "application/vnd.jupyter.widget-view+json": {
              "model_id": "e98f80e50aa74f2a80babac7da37c04b",
              "version_major": 2,
              "version_minor": 0
            },
            "text/plain": [
              "HBox(children=(HTML(value='Epochs'), FloatProgress(value=0.0, max=30.0), HTML(value='')))"
            ]
          },
          "metadata": {},
          "output_type": "display_data"
        },
        {
          "name": "stdout",
          "output_type": "stream",
          "text": [
            "\n"
          ]
        },
        {
          "data": {
            "application/vnd.jupyter.widget-view+json": {
              "model_id": "8f21ae1d0bcf45e586b8443276ba9f81",
              "version_major": 2,
              "version_minor": 0
            },
            "text/plain": [
              "HBox(children=(HTML(value='Epochs'), FloatProgress(value=0.0, max=30.0), HTML(value='')))"
            ]
          },
          "metadata": {},
          "output_type": "display_data"
        },
        {
          "name": "stdout",
          "output_type": "stream",
          "text": [
            "\n"
          ]
        },
        {
          "data": {
            "application/vnd.jupyter.widget-view+json": {
              "model_id": "ffd3bda919364002a8a219a9230f02f4",
              "version_major": 2,
              "version_minor": 0
            },
            "text/plain": [
              "HBox(children=(HTML(value='Epochs'), FloatProgress(value=0.0, max=30.0), HTML(value='')))"
            ]
          },
          "metadata": {},
          "output_type": "display_data"
        },
        {
          "name": "stdout",
          "output_type": "stream",
          "text": [
            "\n"
          ]
        },
        {
          "data": {
            "application/vnd.jupyter.widget-view+json": {
              "model_id": "fa2c81c161614e3bab89222fe48eb79b",
              "version_major": 2,
              "version_minor": 0
            },
            "text/plain": [
              "HBox(children=(HTML(value='Epochs'), FloatProgress(value=0.0, max=30.0), HTML(value='')))"
            ]
          },
          "metadata": {},
          "output_type": "display_data"
        },
        {
          "name": "stdout",
          "output_type": "stream",
          "text": [
            "\n"
          ]
        },
        {
          "data": {
            "application/vnd.jupyter.widget-view+json": {
              "model_id": "30cbe2deff74460eb71eedb182060420",
              "version_major": 2,
              "version_minor": 0
            },
            "text/plain": [
              "HBox(children=(HTML(value='Epochs'), FloatProgress(value=0.0, max=30.0), HTML(value='')))"
            ]
          },
          "metadata": {},
          "output_type": "display_data"
        },
        {
          "name": "stdout",
          "output_type": "stream",
          "text": [
            "\n"
          ]
        },
        {
          "data": {
            "application/vnd.jupyter.widget-view+json": {
              "model_id": "cb9e040ab24d45ecb701a6e0553eb5bf",
              "version_major": 2,
              "version_minor": 0
            },
            "text/plain": [
              "HBox(children=(HTML(value='Epochs'), FloatProgress(value=0.0, max=30.0), HTML(value='')))"
            ]
          },
          "metadata": {},
          "output_type": "display_data"
        },
        {
          "name": "stdout",
          "output_type": "stream",
          "text": [
            "\n"
          ]
        },
        {
          "data": {
            "application/vnd.jupyter.widget-view+json": {
              "model_id": "65c03c126dd24d8b959eb52f2b900c10",
              "version_major": 2,
              "version_minor": 0
            },
            "text/plain": [
              "HBox(children=(HTML(value='Epochs'), FloatProgress(value=0.0, max=30.0), HTML(value='')))"
            ]
          },
          "metadata": {},
          "output_type": "display_data"
        },
        {
          "name": "stdout",
          "output_type": "stream",
          "text": [
            "\n"
          ]
        },
        {
          "data": {
            "application/vnd.jupyter.widget-view+json": {
              "model_id": "59ad333906e04b8789875daea0f6989c",
              "version_major": 2,
              "version_minor": 0
            },
            "text/plain": [
              "HBox(children=(HTML(value='Epochs'), FloatProgress(value=0.0, max=30.0), HTML(value='')))"
            ]
          },
          "metadata": {},
          "output_type": "display_data"
        },
        {
          "name": "stdout",
          "output_type": "stream",
          "text": [
            "\n",
            "ResNet, BO, best params:\n",
            "activation: LeakyReLU, optimizer: SGD, lr: 0.1\n",
            "ResNet, BO, best accuracy:\n",
            "-0.843\n",
            "CPU times: user 3h 44min 42s, sys: 1h 32min 27s, total: 5h 17min 9s\n",
            "Wall time: 5h 15min 10s\n"
          ]
        }
      ],
      "source": [
        "%%time\n",
        "res_gp = gp_minimize(objective, space, n_calls=12)\n",
        "print('ResNet, BO, best params:')\n",
        "print(f'activation: {res_gp.x[0]}, optimizer: {res_gp.x[1]}, lr: {res_gp.x[2]}')\n",
        "print('ResNet, BO, best accuracy:')\n",
        "print(res_gp.fun)"
      ]
    },
    {
      "cell_type": "code",
      "execution_count": null,
      "id": "24e5336e",
      "metadata": {
        "cellId": "52f91khfaldzzj4htz3crc",
        "id": "24e5336e",
        "outputId": "716d5da6-92b2-4d7c-d4aa-89b48514e3a9"
      },
      "outputs": [
        {
          "data": {
            "image/png": "[encoded data removed]",
            "text/plain": [
              "<Figure size 1080x720 with 1 Axes>"
            ]
          },
          "metadata": {
            "needs_background": "light"
          },
          "output_type": "display_data"
        }
      ],
      "source": [
        "plt.figure(figsize=(15, 10))\n",
        "vis = plot_convergence(res_gp)\n",
        "plt.savefig('ResNet_BO_HIST.pdf')"
      ]
    },
    {
      "cell_type": "code",
      "execution_count": null,
      "id": "235d5025",
      "metadata": {
        "cellId": "gmuf4grslp46eygigbdn9d",
        "id": "235d5025",
        "outputId": "10cb20fb-9f6a-457e-dc45-7220ef55002d"
      },
      "outputs": [
        {
          "data": {
            "text/plain": [
              "<Figure size 1440x1080 with 0 Axes>"
            ]
          },
          "metadata": {},
          "output_type": "display_data"
        },
        {
          "data": {
            "image/png": "[encoded data removed]",
            "text/plain": [
              "<Figure size 1080x1080 with 9 Axes>"
            ]
          },
          "metadata": {
            "needs_background": "light"
          },
          "output_type": "display_data"
        }
      ],
      "source": [
        "plt.rc('font', size=15)\n",
        "plt.figure(figsize=(20, 15))\n",
        "plot_objective(res_gp, size=5)\n",
        "plt.savefig(fname='GS_CP_BO.pdf')"
      ]
    },
    {
      "cell_type": "code",
      "execution_count": null,
      "id": "dcfae6a2",
      "metadata": {
        "cellId": "oqa8ym0k1f9rgvnm2mlix",
        "colab": {
          "referenced_widgets": [
            "5edf22664f1347aa8092786ca72cafdd"
          ]
        },
        "id": "dcfae6a2",
        "outputId": "d4110178-5f8e-492f-bdcb-b5bc43ce922b"
      },
      "outputs": [
        {
          "data": {
            "application/vnd.jupyter.widget-view+json": {
              "model_id": "5edf22664f1347aa8092786ca72cafdd",
              "version_major": 2,
              "version_minor": 0
            },
            "text/plain": [
              "HBox(children=(HTML(value='Epochs'), FloatProgress(value=0.0, max=30.0), HTML(value='')))"
            ]
          },
          "metadata": {},
          "output_type": "display_data"
        },
        {
          "name": "stdout",
          "output_type": "stream",
          "text": [
            "\n",
            "ResNet, BO, accuracy on test:\n",
            "0.8411\n"
          ]
        }
      ],
      "source": [
        "lr = res_gp.x[2]\n",
        "if res_gp.x[0] == 'ReLU':\n",
        "    activation = F.relu\n",
        "elif res_gp.x[0] == 'LeakyReLU':\n",
        "    activation = F.leaky_relu\n",
        "\n",
        "model = ResNet18(activation)\n",
        "model.to(device)\n",
        "model.device = device\n",
        "loss_fn = nn.CrossEntropyLoss()\n",
        "cb = CallBack(evaluate)\n",
        "\n",
        "if res_gp.x[1] == 'Adam':\n",
        "    optimizer = torch.optim.Adam(model.parameters(), lr=lr)\n",
        "elif res_gp.x[1] == 'SGD':\n",
        "    optimizer = torch.optim.SGD(model.parameters(), lr=lr)\n",
        "    \n",
        "train_full(model, train_dataloader, val_dataloader, loss_fn, optimizer, n_epochs=30, callback=cb)\n",
        "    \n",
        "loss, acc = evaluate(model, test_loader, loss_fn)\n",
        "print('ResNet, BO, accuracy on test:')\n",
        "print(acc)"
      ]
    }
  ],
  "metadata": {
    "kernelspec": {
      "display_name": "Yandex DataSphere Kernel",
      "language": "python",
      "name": "python3"
    },
    "language_info": {
      "codemirror_mode": {
        "name": "ipython",
        "version": 3
      },
      "file_extension": ".py",
      "mimetype": "text/x-python",
      "name": "python",
      "nbconvert_exporter": "python",
      "pygments_lexer": "ipython3",
      "version": "3.7.7"
    },
    "notebookId": "64855513-155c-4e6c-8084-19116048e9d9",
    "notebookPath": "ResNet.ipynb",
    "colab": {
      "name": "ResNet_CIFAR10.ipynb",
      "provenance": [],
      "collapsed_sections": []
    }
  },
  "nbformat": 4,
  "nbformat_minor": 5
}