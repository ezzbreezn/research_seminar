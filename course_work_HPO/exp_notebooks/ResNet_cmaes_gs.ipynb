{
  "metadata": {
    "kernelspec": {
      "language": "python",
      "display_name": "Python 3",
      "name": "python3"
    },
    "language_info": {
      "name": "python",
      "version": "3.7.12",
      "mimetype": "text/x-python",
      "codemirror_mode": {
        "name": "ipython",
        "version": 3
      },
      "pygments_lexer": "ipython3",
      "nbconvert_exporter": "python",
      "file_extension": ".py"
    },
    "colab": {
      "name": "ResNet_cmaes_gs.ipynb",
      "provenance": [],
      "collapsed_sections": []
    }
  },
  "nbformat_minor": 0,
  "nbformat": 4,
  "cells": [
    {
      "cell_type": "code",
      "source": [
        "import numpy as np\n",
        "import pandas as pd\n",
        "import torch\n",
        "import torch.nn as nn\n",
        "import torch.nn.functional as F\n",
        "from torchvision.datasets import CIFAR10\n",
        "from torchvision import transforms\n",
        "from torch.utils.data.sampler import SubsetRandomSampler\n",
        "from torch.utils.data import DataLoader\n",
        "from tqdm.auto import tqdm\n"
      ],
      "metadata": {
        "execution": {
          "iopub.status.busy": "2022-05-02T03:08:07.155839Z",
          "iopub.execute_input": "2022-05-02T03:08:07.156089Z",
          "iopub.status.idle": "2022-05-02T03:08:08.762507Z",
          "shell.execute_reply.started": "2022-05-02T03:08:07.156062Z",
          "shell.execute_reply": "2022-05-02T03:08:08.761813Z"
        },
        "trusted": true,
        "id": "6MiY7tnHgCyF"
      },
      "execution_count": null,
      "outputs": []
    },
    {
      "cell_type": "code",
      "source": [
        "normalize = transforms.Normalize(\n",
        "    mean=[0.4914, 0.4822, 0.4465],\n",
        "    std=[0.247, 0.2435, 0.2616],\n",
        ")"
      ],
      "metadata": {
        "execution": {
          "iopub.status.busy": "2022-05-02T03:08:18.204400Z",
          "iopub.execute_input": "2022-05-02T03:08:18.204647Z",
          "iopub.status.idle": "2022-05-02T03:08:18.208725Z",
          "shell.execute_reply.started": "2022-05-02T03:08:18.204620Z",
          "shell.execute_reply": "2022-05-02T03:08:18.207802Z"
        },
        "trusted": true,
        "id": "qTmioiMAgCyG"
      },
      "execution_count": null,
      "outputs": []
    },
    {
      "cell_type": "code",
      "source": [
        "def samplers(n, split_shuffle=True, val_size=0.1):\n",
        "    if split_shuffle:\n",
        "        idx = torch.randperm(n, generator=torch.Generator().manual_seed(0))\n",
        "    else:\n",
        "        idx = torch.arange(n)\n",
        "    split_idx = int((1.0 - val_size) * n)\n",
        "    train_sampler = SubsetRandomSampler(idx[:split_idx])\n",
        "    val_sampler = SubsetRandomSampler(idx[split_idx:])\n",
        "    return train_sampler, val_sampler"
      ],
      "metadata": {
        "execution": {
          "iopub.status.busy": "2022-05-02T03:09:30.018108Z",
          "iopub.execute_input": "2022-05-02T03:09:30.024438Z",
          "iopub.status.idle": "2022-05-02T03:09:30.046049Z",
          "shell.execute_reply.started": "2022-05-02T03:09:30.024395Z",
          "shell.execute_reply": "2022-05-02T03:09:30.045421Z"
        },
        "trusted": true,
        "id": "WadmafLAgCyI"
      },
      "execution_count": null,
      "outputs": []
    },
    {
      "cell_type": "code",
      "source": [
        "def train_val_dataloader(root_dir='./cifar10', split_shuffle=True, val_size=0.1, batch_size=128):\n",
        "    train_dataset = CIFAR10(root=root_dir, train=True, download=True, transform=transforms.Compose([transforms.ToTensor(), normalize]))\n",
        "    val_dataset = CIFAR10(root=root_dir, train=True, download=True, transform=transforms.Compose([transforms.ToTensor(), normalize]))\n",
        "\n",
        "    \n",
        "    train_sampler, val_sampler = samplers(len(train_dataset), split_shuffle, val_size)\n",
        "    train_dataloader = DataLoader(train_dataset, sampler=train_sampler, batch_size=batch_size)\n",
        "    val_dataloader = DataLoader(val_dataset, sampler=val_sampler, batch_size=batch_size)\n",
        "    return train_dataloader, val_dataloader\n"
      ],
      "metadata": {
        "execution": {
          "iopub.status.busy": "2022-05-02T03:09:33.624149Z",
          "iopub.execute_input": "2022-05-02T03:09:33.624428Z",
          "iopub.status.idle": "2022-05-02T03:09:33.632515Z",
          "shell.execute_reply.started": "2022-05-02T03:09:33.624395Z",
          "shell.execute_reply": "2022-05-02T03:09:33.631602Z"
        },
        "trusted": true,
        "id": "RLxZPTTjgCyJ"
      },
      "execution_count": null,
      "outputs": []
    },
    {
      "cell_type": "code",
      "source": [
        "def test_dataloader(root_dir='./cifar10', batch_size=128):\n",
        "    test_dataset = CIFAR10(root=root_dir, train=False, download=True, transform=transforms.Compose([transforms.ToTensor(), normalize]))\n",
        "    test_dataloader = DataLoader(test_dataset, batch_size=batch_size)\n",
        "    return test_dataloader"
      ],
      "metadata": {
        "execution": {
          "iopub.status.busy": "2022-05-02T03:09:36.552081Z",
          "iopub.execute_input": "2022-05-02T03:09:36.552524Z",
          "iopub.status.idle": "2022-05-02T03:09:36.557311Z",
          "shell.execute_reply.started": "2022-05-02T03:09:36.552493Z",
          "shell.execute_reply": "2022-05-02T03:09:36.556621Z"
        },
        "trusted": true,
        "id": "Hfpfp7mJgCyL"
      },
      "execution_count": null,
      "outputs": []
    },
    {
      "cell_type": "code",
      "source": [
        "# For testing\n",
        "class LeNet(nn.Module):\n",
        "    def __init__(self, num_classes=10):\n",
        "        super(LeNet, self).__init__()\n",
        "        self.conv1 = nn.Conv2d(3, 6, 5)\n",
        "        self.conv2 = nn.Conv2d(6, 16, 5)\n",
        "        self.fc1 = nn.Linear(16*5*5, 120)\n",
        "        self.fc2 = nn.Linear(120, 84)\n",
        "        self.fc3 = nn.Linear(84, num_classes)\n",
        "\n",
        "    def forward(self, x):\n",
        "        out = F.relu(self.conv1(x))\n",
        "        out = F.max_pool2d(out, 2)\n",
        "        out = F.relu(self.conv2(out))\n",
        "        out = F.max_pool2d(out, 2)\n",
        "        out = out.view(out.size(0), -1)\n",
        "        out = F.relu(self.fc1(out))\n",
        "        out = F.relu(self.fc2(out))\n",
        "        out = self.fc3(out)\n",
        "        return out "
      ],
      "metadata": {
        "execution": {
          "iopub.status.busy": "2022-05-01T14:19:44.332353Z",
          "iopub.execute_input": "2022-05-01T14:19:44.332613Z",
          "iopub.status.idle": "2022-05-01T14:19:44.341055Z",
          "shell.execute_reply.started": "2022-05-01T14:19:44.332583Z",
          "shell.execute_reply": "2022-05-01T14:19:44.340086Z"
        },
        "trusted": true,
        "id": "WebHqAGCgCyR"
      },
      "execution_count": null,
      "outputs": []
    },
    {
      "cell_type": "code",
      "source": [
        "def train_batch(model, x_batch, y_batch, loss_fn, optimizer):\n",
        "    model.train()\n",
        "    model.zero_grad()\n",
        "    output = model(x_batch)\n",
        "    loss = loss_fn(output, y_batch)\n",
        "    loss.backward()\n",
        "    optimizer.step()\n",
        "    batch_loss = loss.cpu().item()\n",
        "    with torch.no_grad():\n",
        "        batch_acc_sum = (output.argmax(dim=1) == y_batch).sum().cpu().item()\n",
        "    return batch_loss, batch_acc_sum\n"
      ],
      "metadata": {
        "execution": {
          "iopub.status.busy": "2022-05-02T03:09:55.260231Z",
          "iopub.execute_input": "2022-05-02T03:09:55.260481Z",
          "iopub.status.idle": "2022-05-02T03:09:55.267144Z",
          "shell.execute_reply.started": "2022-05-02T03:09:55.260452Z",
          "shell.execute_reply": "2022-05-02T03:09:55.265826Z"
        },
        "trusted": true,
        "id": "pNSpzRhCgCyS"
      },
      "execution_count": null,
      "outputs": []
    },
    {
      "cell_type": "code",
      "source": [
        "def train_epoch(model, dataloader, loss_fn, optimizer):\n",
        "    epoch_loss = 0.0\n",
        "    epoch_acc = 0\n",
        "    epoch_size = 0\n",
        "    for i_batch, (X_batch, y_batch) in enumerate(dataloader):\n",
        "        batch_loss, batch_acc_sum = train_batch(model, X_batch.to(model.device), y_batch.to(model.device), loss_fn, optimizer)\n",
        "        epoch_size += len(X_batch)\n",
        "        epoch_loss += batch_loss * len(X_batch)\n",
        "        epoch_acc += batch_acc_sum\n",
        "    epoch_loss /= epoch_size\n",
        "    epoch_acc /= epoch_size\n",
        "    return epoch_loss, epoch_acc\n"
      ],
      "metadata": {
        "execution": {
          "iopub.status.busy": "2022-05-02T03:09:59.628179Z",
          "iopub.execute_input": "2022-05-02T03:09:59.628560Z",
          "iopub.status.idle": "2022-05-02T03:09:59.634170Z",
          "shell.execute_reply.started": "2022-05-02T03:09:59.628527Z",
          "shell.execute_reply": "2022-05-02T03:09:59.633469Z"
        },
        "trusted": true,
        "id": "WlB7JqdmgCyT"
      },
      "execution_count": null,
      "outputs": []
    },
    {
      "cell_type": "code",
      "source": [
        "def train_full(model, train_dataloader, val_dataloader, loss_fn, optimizer, n_epochs, callback=None):\n",
        "    epochs = tqdm(range(n_epochs), desc='Epochs', leave=True)\n",
        "    for i_epoch in epochs:\n",
        "        epoch_loss, epoch_acc = train_epoch(model, train_dataloader, loss_fn, optimizer)\n",
        "        if callback is not None:\n",
        "            cb_dict = callback(model, val_dataloader, loss_fn, epoch_loss, epoch_acc)\n",
        "            epochs.set_postfix(cb_dict)"
      ],
      "metadata": {
        "execution": {
          "iopub.status.busy": "2022-05-02T03:10:08.156143Z",
          "iopub.execute_input": "2022-05-02T03:10:08.156400Z",
          "iopub.status.idle": "2022-05-02T03:10:08.161998Z",
          "shell.execute_reply.started": "2022-05-02T03:10:08.156370Z",
          "shell.execute_reply": "2022-05-02T03:10:08.161229Z"
        },
        "trusted": true,
        "id": "CZIFffYvgCyU"
      },
      "execution_count": null,
      "outputs": []
    },
    {
      "cell_type": "code",
      "source": [
        "def evaluate(model, dataloader, loss_fn):\n",
        "    model.eval()\n",
        "    logits = []\n",
        "    targets = []\n",
        "    with torch.no_grad():\n",
        "        for X_batch, y_batch in dataloader:\n",
        "            output = model(X_batch.to(model.device)).cpu()\n",
        "            logits.append(output)\n",
        "            targets.append(y_batch)\n",
        "    logits = torch.cat(logits)\n",
        "    targets = torch.cat(targets)\n",
        "    loss = loss_fn(logits, targets).item()\n",
        "    acc = (logits.argmax(dim=1) == targets).sum().item() / len(targets)\n",
        "    return loss, acc\n"
      ],
      "metadata": {
        "execution": {
          "iopub.status.busy": "2022-05-02T03:10:15.048313Z",
          "iopub.execute_input": "2022-05-02T03:10:15.048593Z",
          "iopub.status.idle": "2022-05-02T03:10:15.055722Z",
          "shell.execute_reply.started": "2022-05-02T03:10:15.048563Z",
          "shell.execute_reply": "2022-05-02T03:10:15.054885Z"
        },
        "trusted": true,
        "id": "yqWcMlrUgCyU"
      },
      "execution_count": null,
      "outputs": []
    },
    {
      "cell_type": "code",
      "source": [
        "class CallBack:\n",
        "    def __init__(self, eval_fn, name=None):\n",
        "        self.eval_fn = eval_fn\n",
        "        self.train_losses = []\n",
        "        self.train_accs = []\n",
        "        self.val_losses = []\n",
        "        self.val_accs = []\n",
        "    \n",
        "    def last_info(self):\n",
        "        return {'loss_train': f'{self.train_losses[-1]}',\n",
        "                'acc_train': f'{self.train_accs[-1]}',\n",
        "                'loss_val': f'{self.val_losses[-1]}',\n",
        "                'acc_val': f'{self.val_accs[-1]}'}\n",
        "\n",
        "    def __call__(self, model, val_dataloader, loss_fn,\n",
        "                 epoch_loss=None, epoch_acc=None):\n",
        "        self.train_losses.append(epoch_loss)\n",
        "        self.train_accs.append(epoch_acc)\n",
        "        loss_val, acc_val = self.eval_fn(model, val_dataloader, loss_fn)\n",
        "        self.val_losses.append(loss_val)\n",
        "        self.val_accs.append(acc_val)\n",
        "        return self.last_info()"
      ],
      "metadata": {
        "execution": {
          "iopub.status.busy": "2022-05-02T03:10:24.841789Z",
          "iopub.execute_input": "2022-05-02T03:10:24.842115Z",
          "iopub.status.idle": "2022-05-02T03:10:24.852175Z",
          "shell.execute_reply.started": "2022-05-02T03:10:24.842077Z",
          "shell.execute_reply": "2022-05-02T03:10:24.851419Z"
        },
        "trusted": true,
        "id": "f1i8JVemgCyV"
      },
      "execution_count": null,
      "outputs": []
    },
    {
      "cell_type": "code",
      "source": [
        "train_dataloader, val_dataloader = train_val_dataloader()\n",
        "device = torch.device('cuda' if torch.cuda.is_available() else 'cpu')"
      ],
      "metadata": {
        "execution": {
          "iopub.status.busy": "2022-05-02T03:10:35.213493Z",
          "iopub.execute_input": "2022-05-02T03:10:35.213742Z",
          "iopub.status.idle": "2022-05-02T03:10:53.877486Z",
          "shell.execute_reply.started": "2022-05-02T03:10:35.213714Z",
          "shell.execute_reply": "2022-05-02T03:10:53.876628Z"
        },
        "trusted": true,
        "colab": {
          "referenced_widgets": [
            "9258fb5095fe4f27acf17afd3042a132"
          ]
        },
        "id": "frHxDFT_gCyW",
        "outputId": "9c3317bd-4c67-4003-c685-dd8456e5650c"
      },
      "execution_count": null,
      "outputs": [
        {
          "name": "stdout",
          "text": "Downloading https://www.cs.toronto.edu/~kriz/cifar-10-python.tar.gz to ./cifar10/cifar-10-python.tar.gz\n",
          "output_type": "stream"
        },
        {
          "output_type": "display_data",
          "data": {
            "text/plain": "  0%|          | 0/170498071 [00:00<?, ?it/s]",
            "application/vnd.jupyter.widget-view+json": {
              "version_major": 2,
              "version_minor": 0,
              "model_id": "9258fb5095fe4f27acf17afd3042a132"
            }
          },
          "metadata": {}
        },
        {
          "name": "stdout",
          "text": "Extracting ./cifar10/cifar-10-python.tar.gz to ./cifar10\nFiles already downloaded and verified\n",
          "output_type": "stream"
        }
      ]
    },
    {
      "cell_type": "code",
      "source": [
        "test_loader = test_dataloader()"
      ],
      "metadata": {
        "execution": {
          "iopub.status.busy": "2022-05-02T03:11:00.857617Z",
          "iopub.execute_input": "2022-05-02T03:11:00.858116Z",
          "iopub.status.idle": "2022-05-02T03:11:01.547974Z",
          "shell.execute_reply.started": "2022-05-02T03:11:00.858075Z",
          "shell.execute_reply": "2022-05-02T03:11:01.547208Z"
        },
        "trusted": true,
        "id": "cfp4Ix35gCyX",
        "outputId": "53713b7e-f92f-4dca-b509-e7980edc1c3a"
      },
      "execution_count": null,
      "outputs": [
        {
          "name": "stdout",
          "text": "Files already downloaded and verified\n",
          "output_type": "stream"
        }
      ]
    },
    {
      "cell_type": "code",
      "source": [
        "device"
      ],
      "metadata": {
        "execution": {
          "iopub.status.busy": "2022-05-02T03:11:05.716626Z",
          "iopub.execute_input": "2022-05-02T03:11:05.717023Z",
          "iopub.status.idle": "2022-05-02T03:11:05.723164Z",
          "shell.execute_reply.started": "2022-05-02T03:11:05.716992Z",
          "shell.execute_reply": "2022-05-02T03:11:05.722460Z"
        },
        "trusted": true,
        "id": "h0OjkNZJgCyY",
        "outputId": "2bfcf99a-4b10-4045-bff0-8113ed8f99b9"
      },
      "execution_count": null,
      "outputs": [
        {
          "execution_count": 17,
          "output_type": "execute_result",
          "data": {
            "text/plain": "device(type='cuda')"
          },
          "metadata": {}
        }
      ]
    },
    {
      "cell_type": "code",
      "source": [
        "#ResNet\n",
        "#source: https://github.com/soapisnotfat/pytorch-cifar10/blob/master/models/ResNet.py\n",
        "class BasicBlock(nn.Module):\n",
        "    expansion = 1\n",
        "\n",
        "    def __init__(self, in_planes, planes, activation, stride=1):\n",
        "        self.activation = activation\n",
        "        super(BasicBlock, self).__init__()\n",
        "        self.conv1 = nn.Conv2d(\n",
        "            in_planes, planes, kernel_size=3, stride=stride, padding=1, bias=False)\n",
        "        self.bn1 = nn.BatchNorm2d(planes)\n",
        "        self.conv2 = nn.Conv2d(planes, planes, kernel_size=3,\n",
        "                               stride=1, padding=1, bias=False)\n",
        "        self.bn2 = nn.BatchNorm2d(planes)\n",
        "\n",
        "        self.shortcut = nn.Sequential()\n",
        "        if stride != 1 or in_planes != self.expansion*planes:\n",
        "            self.shortcut = nn.Sequential(\n",
        "                nn.Conv2d(in_planes, self.expansion*planes,\n",
        "                          kernel_size=1, stride=stride, bias=False),\n",
        "                nn.BatchNorm2d(self.expansion*planes)\n",
        "            )\n",
        "\n",
        "    def forward(self, x):\n",
        "        out = self.activation(self.bn1(self.conv1(x)))\n",
        "        out = self.bn2(self.conv2(out))\n",
        "        out += self.shortcut(x)\n",
        "        out = self.activation(out)\n",
        "        return out"
      ],
      "metadata": {
        "execution": {
          "iopub.status.busy": "2022-05-02T03:11:10.720262Z",
          "iopub.execute_input": "2022-05-02T03:11:10.720526Z",
          "iopub.status.idle": "2022-05-02T03:11:10.732612Z",
          "shell.execute_reply.started": "2022-05-02T03:11:10.720497Z",
          "shell.execute_reply": "2022-05-02T03:11:10.731902Z"
        },
        "trusted": true,
        "id": "GMyFcYqIgCya"
      },
      "execution_count": null,
      "outputs": []
    },
    {
      "cell_type": "code",
      "source": [
        "class ResNet(nn.Module):\n",
        "    def __init__(self, block, num_blocks, activation, num_classes=10):\n",
        "        super(ResNet, self).__init__()\n",
        "        self.in_planes = 64\n",
        "        self.activation = activation\n",
        "        self.conv1 = nn.Conv2d(3, 64, kernel_size=3,\n",
        "                               stride=1, padding=1, bias=False)\n",
        "        self.bn1 = nn.BatchNorm2d(64)\n",
        "        self.layer1 = self._make_layer(block, 64, num_blocks[0], stride=1)\n",
        "        self.layer2 = self._make_layer(block, 128, num_blocks[1], stride=2)\n",
        "        self.layer3 = self._make_layer(block, 256, num_blocks[2], stride=2)\n",
        "        self.layer4 = self._make_layer(block, 512, num_blocks[3], stride=2)\n",
        "        self.linear = nn.Linear(512*block.expansion, num_classes)\n",
        "\n",
        "\n",
        "    def _make_layer(self, block, planes, num_blocks, stride):\n",
        "        strides = [stride] + [1]*(num_blocks-1)\n",
        "        layers = []\n",
        "        for stride in strides:\n",
        "            layers.append(block(self.in_planes, planes, self.activation, stride))\n",
        "            self.in_planes = planes * block.expansion\n",
        "        return nn.Sequential(*layers)\n",
        "\n",
        "    def forward(self, x):\n",
        "        out = self.activation(self.bn1(self.conv1(x)))\n",
        "        out = self.layer1(out)\n",
        "        out = self.layer2(out)\n",
        "        out = self.layer3(out)\n",
        "        out = self.layer4(out)\n",
        "        out = F.avg_pool2d(out, 4)\n",
        "        out = out.view(out.size(0), -1)\n",
        "        out = self.linear(out)\n",
        "        return out\n"
      ],
      "metadata": {
        "execution": {
          "iopub.status.busy": "2022-05-02T03:11:18.956482Z",
          "iopub.execute_input": "2022-05-02T03:11:18.956860Z",
          "iopub.status.idle": "2022-05-02T03:11:18.967851Z",
          "shell.execute_reply.started": "2022-05-02T03:11:18.956828Z",
          "shell.execute_reply": "2022-05-02T03:11:18.967179Z"
        },
        "trusted": true,
        "id": "ggKTqRpNgCyc"
      },
      "execution_count": null,
      "outputs": []
    },
    {
      "cell_type": "code",
      "source": [
        "def ResNet18(activation):\n",
        "    return ResNet(BasicBlock, [2, 2, 2, 2], activation)"
      ],
      "metadata": {
        "execution": {
          "iopub.status.busy": "2022-05-02T03:11:29.401553Z",
          "iopub.execute_input": "2022-05-02T03:11:29.401822Z",
          "iopub.status.idle": "2022-05-02T03:11:29.405896Z",
          "shell.execute_reply.started": "2022-05-02T03:11:29.401790Z",
          "shell.execute_reply": "2022-05-02T03:11:29.405203Z"
        },
        "trusted": true,
        "id": "CDmswRihgCyd"
      },
      "execution_count": null,
      "outputs": []
    },
    {
      "cell_type": "code",
      "source": [
        "def pipeline(activation_set, optimizer_set, lr):\n",
        "    if activation_set == 'ReLU':\n",
        "        activation = F.relu\n",
        "    elif activation_set == 'LeakyReLU':\n",
        "        activation = F.leaky_relu\n",
        "    model = ResNet18(activation)\n",
        "    model.to(device)\n",
        "    model.device = device\n",
        "    loss_fn = nn.CrossEntropyLoss()\n",
        "    if optimizer_set == 'Adam':\n",
        "        optimizer = torch.optim.Adam(model.parameters(), lr=lr)\n",
        "    elif optimizer_set == 'SGD':\n",
        "        optimizer = torch.optim.SGD(model.parameters(), lr=lr)\n",
        "    \n",
        "    cb = CallBack(evaluate)\n",
        "    train_full(model, train_dataloader, val_dataloader, loss_fn, optimizer, n_epochs=30, callback=cb)\n",
        "    \n",
        "    loss, acc = evaluate(model, val_dataloader, loss_fn)\n",
        "    return acc\n",
        "    "
      ],
      "metadata": {
        "execution": {
          "iopub.status.busy": "2022-05-02T03:11:34.804311Z",
          "iopub.execute_input": "2022-05-02T03:11:34.804577Z",
          "iopub.status.idle": "2022-05-02T03:11:34.812366Z",
          "shell.execute_reply.started": "2022-05-02T03:11:34.804547Z",
          "shell.execute_reply": "2022-05-02T03:11:34.811303Z"
        },
        "trusted": true,
        "id": "sAiL-IUYgCyf"
      },
      "execution_count": null,
      "outputs": []
    },
    {
      "cell_type": "code",
      "source": [
        "!pip install optuna"
      ],
      "metadata": {
        "execution": {
          "iopub.status.busy": "2022-05-02T03:11:41.649222Z",
          "iopub.execute_input": "2022-05-02T03:11:41.649727Z",
          "iopub.status.idle": "2022-05-02T03:11:51.705128Z",
          "shell.execute_reply.started": "2022-05-02T03:11:41.649688Z",
          "shell.execute_reply": "2022-05-02T03:11:51.704245Z"
        },
        "trusted": true,
        "id": "lm09UKFugCyg",
        "outputId": "09e30045-380b-4004-a3dd-f183e20d4c30"
      },
      "execution_count": null,
      "outputs": [
        {
          "name": "stdout",
          "text": "Requirement already satisfied: optuna in /opt/conda/lib/python3.7/site-packages (2.10.0)\nRequirement already satisfied: cmaes>=0.8.2 in /opt/conda/lib/python3.7/site-packages (from optuna) (0.8.2)\nRequirement already satisfied: colorlog in /opt/conda/lib/python3.7/site-packages (from optuna) (6.6.0)\nRequirement already satisfied: numpy in /opt/conda/lib/python3.7/site-packages (from optuna) (1.21.6)\nRequirement already satisfied: sqlalchemy>=1.1.0 in /opt/conda/lib/python3.7/site-packages (from optuna) (1.4.32)\nRequirement already satisfied: scipy!=1.4.0 in /opt/conda/lib/python3.7/site-packages (from optuna) (1.7.3)\nRequirement already satisfied: tqdm in /opt/conda/lib/python3.7/site-packages (from optuna) (4.63.0)\nRequirement already satisfied: PyYAML in /opt/conda/lib/python3.7/site-packages (from optuna) (6.0)\nRequirement already satisfied: alembic in /opt/conda/lib/python3.7/site-packages (from optuna) (1.7.7)\nRequirement already satisfied: packaging>=20.0 in /opt/conda/lib/python3.7/site-packages (from optuna) (21.3)\nRequirement already satisfied: cliff in /opt/conda/lib/python3.7/site-packages (from optuna) (3.10.1)\nRequirement already satisfied: pyparsing!=3.0.5,>=2.0.2 in /opt/conda/lib/python3.7/site-packages (from packaging>=20.0->optuna) (3.0.7)\nRequirement already satisfied: greenlet!=0.4.17 in /opt/conda/lib/python3.7/site-packages (from sqlalchemy>=1.1.0->optuna) (1.1.2)\nRequirement already satisfied: importlib-metadata in /opt/conda/lib/python3.7/site-packages (from sqlalchemy>=1.1.0->optuna) (4.11.3)\nRequirement already satisfied: Mako in /opt/conda/lib/python3.7/site-packages (from alembic->optuna) (1.2.0)\nRequirement already satisfied: importlib-resources in /opt/conda/lib/python3.7/site-packages (from alembic->optuna) (5.4.0)\nRequirement already satisfied: autopage>=0.4.0 in /opt/conda/lib/python3.7/site-packages (from cliff->optuna) (0.5.0)\nRequirement already satisfied: stevedore>=2.0.1 in /opt/conda/lib/python3.7/site-packages (from cliff->optuna) (3.5.0)\nRequirement already satisfied: PrettyTable>=0.7.2 in /opt/conda/lib/python3.7/site-packages (from cliff->optuna) (3.2.0)\nRequirement already satisfied: pbr!=2.1.0,>=2.0.0 in /opt/conda/lib/python3.7/site-packages (from cliff->optuna) (5.8.1)\nRequirement already satisfied: cmd2>=1.0.0 in /opt/conda/lib/python3.7/site-packages (from cliff->optuna) (2.4.1)\nRequirement already satisfied: attrs>=16.3.0 in /opt/conda/lib/python3.7/site-packages (from cmd2>=1.0.0->cliff->optuna) (21.4.0)\nRequirement already satisfied: pyperclip>=1.6 in /opt/conda/lib/python3.7/site-packages (from cmd2>=1.0.0->cliff->optuna) (1.8.2)\nRequirement already satisfied: wcwidth>=0.1.7 in /opt/conda/lib/python3.7/site-packages (from cmd2>=1.0.0->cliff->optuna) (0.2.5)\nRequirement already satisfied: typing-extensions in /opt/conda/lib/python3.7/site-packages (from cmd2>=1.0.0->cliff->optuna) (4.2.0)\nRequirement already satisfied: zipp>=0.5 in /opt/conda/lib/python3.7/site-packages (from importlib-metadata->sqlalchemy>=1.1.0->optuna) (3.7.0)\nRequirement already satisfied: MarkupSafe>=0.9.2 in /opt/conda/lib/python3.7/site-packages (from Mako->alembic->optuna) (2.0.1)\n\u001b[33mWARNING: Running pip as the 'root' user can result in broken permissions and conflicting behaviour with the system package manager. It is recommended to use a virtual environment instead: https://pip.pypa.io/warnings/venv\u001b[0m\u001b[33m\n\u001b[0m",
          "output_type": "stream"
        }
      ]
    },
    {
      "cell_type": "code",
      "source": [
        "import optuna\n",
        "optuna.logging.set_verbosity(optuna.logging.ERROR)"
      ],
      "metadata": {
        "execution": {
          "iopub.status.busy": "2022-05-02T03:12:01.729865Z",
          "iopub.execute_input": "2022-05-02T03:12:01.730609Z",
          "iopub.status.idle": "2022-05-02T03:12:03.216893Z",
          "shell.execute_reply.started": "2022-05-02T03:12:01.730571Z",
          "shell.execute_reply": "2022-05-02T03:12:03.216165Z"
        },
        "trusted": true,
        "id": "rOya1RCFgCyg"
      },
      "execution_count": null,
      "outputs": []
    },
    {
      "cell_type": "code",
      "source": [
        "import matplotlib.pyplot as plt\n",
        "%matplotlib inline"
      ],
      "metadata": {
        "execution": {
          "iopub.status.busy": "2022-05-02T03:12:07.388715Z",
          "iopub.execute_input": "2022-05-02T03:12:07.389422Z",
          "iopub.status.idle": "2022-05-02T03:12:07.395632Z",
          "shell.execute_reply.started": "2022-05-02T03:12:07.389384Z",
          "shell.execute_reply": "2022-05-02T03:12:07.394767Z"
        },
        "trusted": true,
        "id": "4nm_xJ3-gCyh"
      },
      "execution_count": null,
      "outputs": []
    },
    {
      "cell_type": "markdown",
      "source": [
        "# CMA-ES"
      ],
      "metadata": {
        "id": "eY7YnHuDgCyh"
      }
    },
    {
      "cell_type": "code",
      "source": [
        "def objective(trial):\n",
        "\n",
        "    lr = trial.suggest_float('lr', 1e-3, 1e-1, log=True)\n",
        "    optimizer_set = trial.suggest_categorical('optimizer', ['Adam', 'SGD'])\n",
        "    \n",
        "    activation_set = trial.suggest_categorical('activation', ['ReLU', 'LeakyReLU'])\n",
        "    return pipeline(activation_set, optimizer_set, lr)"
      ],
      "metadata": {
        "execution": {
          "iopub.status.busy": "2022-05-02T03:12:16.112689Z",
          "iopub.execute_input": "2022-05-02T03:12:16.113039Z",
          "iopub.status.idle": "2022-05-02T03:12:16.120064Z",
          "shell.execute_reply.started": "2022-05-02T03:12:16.113000Z",
          "shell.execute_reply": "2022-05-02T03:12:16.119112Z"
        },
        "trusted": true,
        "id": "HBS_nx82gCyj"
      },
      "execution_count": null,
      "outputs": []
    },
    {
      "cell_type": "code",
      "source": [
        "%%time\n",
        "study = optuna.create_study(direction='maximize', sampler=optuna.samplers.CmaEsSampler())\n",
        "study.optimize(objective, n_trials=12)"
      ],
      "metadata": {
        "execution": {
          "iopub.status.busy": "2022-05-01T18:52:49.598610Z",
          "iopub.execute_input": "2022-05-01T18:52:49.598887Z",
          "iopub.status.idle": "2022-05-01T23:07:07.774799Z",
          "shell.execute_reply.started": "2022-05-01T18:52:49.598854Z",
          "shell.execute_reply": "2022-05-01T23:07:07.774006Z"
        },
        "trusted": true,
        "colab": {
          "referenced_widgets": [
            "2d43474bdade46149cb9dff3fd738ddb",
            "ad19201136f047d9bcad529155b621c0",
            "8fbbeeca52044b31a4fa46e3cd00cdf8",
            "79def68ab42e4b388954172fe7cb2081",
            "c4838d8cb6b749c39b6795be95829bbd",
            "8238359a09b346779f2ec4eb56130b65",
            "0a101223e7da448c90ef5a5e425a7966",
            "0fa99851c67c4ebba548eaff3e676458",
            "f66f4d9d258b4442905de236d352a83a",
            "28c8c05ba768460997693551eab8dcbf",
            "ac018ffe5a444b61a03ac3cc241ebffe",
            "a66f8ee829494917a32f8ed2984d80e5"
          ]
        },
        "id": "HGliQkQsgCyk",
        "outputId": "6a8c54f6-c8eb-447e-afb5-a54a18d788b3"
      },
      "execution_count": null,
      "outputs": [
        {
          "output_type": "display_data",
          "data": {
            "text/plain": "Epochs:   0%|          | 0/30 [00:00<?, ?it/s]",
            "application/vnd.jupyter.widget-view+json": {
              "version_major": 2,
              "version_minor": 0,
              "model_id": "2d43474bdade46149cb9dff3fd738ddb"
            }
          },
          "metadata": {}
        },
        {
          "output_type": "display_data",
          "data": {
            "text/plain": "Epochs:   0%|          | 0/30 [00:00<?, ?it/s]",
            "application/vnd.jupyter.widget-view+json": {
              "version_major": 2,
              "version_minor": 0,
              "model_id": "ad19201136f047d9bcad529155b621c0"
            }
          },
          "metadata": {}
        },
        {
          "output_type": "display_data",
          "data": {
            "text/plain": "Epochs:   0%|          | 0/30 [00:00<?, ?it/s]",
            "application/vnd.jupyter.widget-view+json": {
              "version_major": 2,
              "version_minor": 0,
              "model_id": "8fbbeeca52044b31a4fa46e3cd00cdf8"
            }
          },
          "metadata": {}
        },
        {
          "output_type": "display_data",
          "data": {
            "text/plain": "Epochs:   0%|          | 0/30 [00:00<?, ?it/s]",
            "application/vnd.jupyter.widget-view+json": {
              "version_major": 2,
              "version_minor": 0,
              "model_id": "79def68ab42e4b388954172fe7cb2081"
            }
          },
          "metadata": {}
        },
        {
          "output_type": "display_data",
          "data": {
            "text/plain": "Epochs:   0%|          | 0/30 [00:00<?, ?it/s]",
            "application/vnd.jupyter.widget-view+json": {
              "version_major": 2,
              "version_minor": 0,
              "model_id": "c4838d8cb6b749c39b6795be95829bbd"
            }
          },
          "metadata": {}
        },
        {
          "output_type": "display_data",
          "data": {
            "text/plain": "Epochs:   0%|          | 0/30 [00:00<?, ?it/s]",
            "application/vnd.jupyter.widget-view+json": {
              "version_major": 2,
              "version_minor": 0,
              "model_id": "8238359a09b346779f2ec4eb56130b65"
            }
          },
          "metadata": {}
        },
        {
          "output_type": "display_data",
          "data": {
            "text/plain": "Epochs:   0%|          | 0/30 [00:00<?, ?it/s]",
            "application/vnd.jupyter.widget-view+json": {
              "version_major": 2,
              "version_minor": 0,
              "model_id": "0a101223e7da448c90ef5a5e425a7966"
            }
          },
          "metadata": {}
        },
        {
          "output_type": "display_data",
          "data": {
            "text/plain": "Epochs:   0%|          | 0/30 [00:00<?, ?it/s]",
            "application/vnd.jupyter.widget-view+json": {
              "version_major": 2,
              "version_minor": 0,
              "model_id": "0fa99851c67c4ebba548eaff3e676458"
            }
          },
          "metadata": {}
        },
        {
          "output_type": "display_data",
          "data": {
            "text/plain": "Epochs:   0%|          | 0/30 [00:00<?, ?it/s]",
            "application/vnd.jupyter.widget-view+json": {
              "version_major": 2,
              "version_minor": 0,
              "model_id": "f66f4d9d258b4442905de236d352a83a"
            }
          },
          "metadata": {}
        },
        {
          "output_type": "display_data",
          "data": {
            "text/plain": "Epochs:   0%|          | 0/30 [00:00<?, ?it/s]",
            "application/vnd.jupyter.widget-view+json": {
              "version_major": 2,
              "version_minor": 0,
              "model_id": "28c8c05ba768460997693551eab8dcbf"
            }
          },
          "metadata": {}
        },
        {
          "output_type": "display_data",
          "data": {
            "text/plain": "Epochs:   0%|          | 0/30 [00:00<?, ?it/s]",
            "application/vnd.jupyter.widget-view+json": {
              "version_major": 2,
              "version_minor": 0,
              "model_id": "ac018ffe5a444b61a03ac3cc241ebffe"
            }
          },
          "metadata": {}
        },
        {
          "output_type": "display_data",
          "data": {
            "text/plain": "Epochs:   0%|          | 0/30 [00:00<?, ?it/s]",
            "application/vnd.jupyter.widget-view+json": {
              "version_major": 2,
              "version_minor": 0,
              "model_id": "a66f8ee829494917a32f8ed2984d80e5"
            }
          },
          "metadata": {}
        },
        {
          "name": "stdout",
          "text": "CPU times: user 4h 13min, sys: 18.8 s, total: 4h 13min 18s\nWall time: 4h 14min 18s\n",
          "output_type": "stream"
        }
      ]
    },
    {
      "cell_type": "code",
      "source": [
        "plt.figure(figsize=(20, 18))\n",
        "optuna.visualization.matplotlib.plot_optimization_history(study)\n",
        "plt.savefig('ResNet_CMAES_HIST.pdf')"
      ],
      "metadata": {
        "execution": {
          "iopub.status.busy": "2022-05-01T23:07:07.776491Z",
          "iopub.execute_input": "2022-05-01T23:07:07.777146Z",
          "iopub.status.idle": "2022-05-01T23:07:08.329864Z",
          "shell.execute_reply.started": "2022-05-01T23:07:07.777104Z",
          "shell.execute_reply": "2022-05-01T23:07:08.329163Z"
        },
        "trusted": true,
        "id": "SW5tsFuYgCyl",
        "outputId": "f915658d-061f-487b-e807-d155ae0a9aec"
      },
      "execution_count": null,
      "outputs": [
        {
          "name": "stderr",
          "text": "/opt/conda/lib/python3.7/site-packages/ipykernel_launcher.py:2: ExperimentalWarning: plot_optimization_history is experimental (supported from v2.2.0). The interface can change in the future.\n  \n",
          "output_type": "stream"
        },
        {
          "output_type": "display_data",
          "data": {
            "text/plain": "<Figure size 1440x1296 with 0 Axes>"
          },
          "metadata": {}
        },
        {
          "output_type": "display_data",
          "data": {
            "text/plain": "<Figure size 432x288 with 1 Axes>",
            "image/png": "[encoded data removed]"
          },
          "metadata": {}
        }
      ]
    },
    {
      "cell_type": "code",
      "source": [
        "print('ResNet, CMA-ES, best trial:')\n",
        "print(study.best_trial.params)\n",
        "print('ResNet, CMA-ES, best accuracy:')\n",
        "print(study.best_value)\n",
        "print('ResNet, CMA-ES, best trial number')\n",
        "print(study.best_trial.number)"
      ],
      "metadata": {
        "execution": {
          "iopub.status.busy": "2022-05-01T23:35:03.492005Z",
          "iopub.execute_input": "2022-05-01T23:35:03.492638Z",
          "iopub.status.idle": "2022-05-01T23:35:03.500114Z",
          "shell.execute_reply.started": "2022-05-01T23:35:03.492600Z",
          "shell.execute_reply": "2022-05-01T23:35:03.499378Z"
        },
        "trusted": true,
        "id": "fFTXO8rugCym",
        "outputId": "21162139-7562-4afb-8c78-aa83eecfc8e4"
      },
      "execution_count": null,
      "outputs": [
        {
          "name": "stdout",
          "text": "ResNet, CMA-ES, best trial:\n{'lr': 0.0010208052058606053, 'optimizer': 'Adam', 'activation': 'LeakyReLU'}\nResNet, CMA-ES, best accuracy:\n0.8446\nResNet, CMA-ES, best trial number\n1\n",
          "output_type": "stream"
        }
      ]
    },
    {
      "cell_type": "code",
      "source": [
        "plt.figure(figsize=(20, 18))\n",
        "optuna.visualization.matplotlib.plot_contour(study, params=[\"lr\", \"optimizer\", \"activation\"])\n",
        "plt.savefig('ResNet_CMAES_CP.pdf')"
      ],
      "metadata": {
        "execution": {
          "iopub.status.busy": "2022-05-01T23:07:08.341670Z",
          "iopub.execute_input": "2022-05-01T23:07:08.341894Z",
          "iopub.status.idle": "2022-05-01T23:07:42.930846Z",
          "shell.execute_reply.started": "2022-05-01T23:07:08.341863Z",
          "shell.execute_reply": "2022-05-01T23:07:42.930154Z"
        },
        "trusted": true,
        "id": "--3-vGPGgCyn",
        "outputId": "d7125e6d-a72c-4e1b-e794-81d79bc11cd6"
      },
      "execution_count": null,
      "outputs": [
        {
          "name": "stderr",
          "text": "/opt/conda/lib/python3.7/site-packages/ipykernel_launcher.py:2: ExperimentalWarning: plot_contour is experimental (supported from v2.2.0). The interface can change in the future.\n  \n",
          "output_type": "stream"
        },
        {
          "output_type": "display_data",
          "data": {
            "text/plain": "<Figure size 1440x1296 with 0 Axes>"
          },
          "metadata": {}
        },
        {
          "output_type": "display_data",
          "data": {
            "text/plain": "<Figure size 432x288 with 10 Axes>",
            "image/png": "[encoded data removed]"
          },
          "metadata": {}
        }
      ]
    },
    {
      "cell_type": "code",
      "source": [
        "def eval_test(study):\n",
        "    lr = study.best_trial.params['lr']\n",
        "    if study.best_trial.params['activation'] == 'ReLU':\n",
        "        activation = F.relu\n",
        "    elif study.best_trial.params['activation'] == 'LeakyReLU':\n",
        "        activation = F.leaky_relu\n",
        "\n",
        "    model = ResNet18(activation)\n",
        "    model.to(device)\n",
        "    model.device = device\n",
        "    loss_fn = nn.CrossEntropyLoss()\n",
        "    cb = CallBack(evaluate)\n",
        "\n",
        "    if study.best_trial.params['optimizer'] == 'Adam':\n",
        "        optimizer = torch.optim.Adam(model.parameters(), lr=lr)\n",
        "    elif study.best_trial.params['optimizer'] == 'SGD':\n",
        "        optimizer = torch.optim.SGD(model.parameters(), lr=lr)\n",
        "    \n",
        "    train_full(model, train_dataloader, val_dataloader, loss_fn, optimizer, n_epochs=30, callback=cb)\n",
        "    \n",
        "    return evaluate(model, test_loader, loss_fn)"
      ],
      "metadata": {
        "execution": {
          "iopub.status.busy": "2022-05-02T07:34:06.516793Z",
          "iopub.execute_input": "2022-05-02T07:34:06.517088Z",
          "iopub.status.idle": "2022-05-02T07:34:06.524944Z",
          "shell.execute_reply.started": "2022-05-02T07:34:06.517058Z",
          "shell.execute_reply": "2022-05-02T07:34:06.524003Z"
        },
        "trusted": true,
        "id": "E-UdJ2MsgCyo"
      },
      "execution_count": null,
      "outputs": []
    },
    {
      "cell_type": "code",
      "source": [
        "loss, acc = eval_test(study)\n",
        "print('ResNet, CMA-ES, accuracy on test:')\n",
        "print(acc)"
      ],
      "metadata": {
        "execution": {
          "iopub.status.busy": "2022-05-01T23:13:27.986925Z",
          "iopub.execute_input": "2022-05-01T23:13:27.987793Z",
          "iopub.status.idle": "2022-05-01T23:34:53.392489Z",
          "shell.execute_reply.started": "2022-05-01T23:13:27.987751Z",
          "shell.execute_reply": "2022-05-01T23:34:53.391750Z"
        },
        "trusted": true,
        "colab": {
          "referenced_widgets": [
            "e54afa205ec443b6a6bfaa30613ac317"
          ]
        },
        "id": "ui00t9_hgCyo",
        "outputId": "f547977a-1dd5-4077-c8f0-7f283f44191d"
      },
      "execution_count": null,
      "outputs": [
        {
          "output_type": "display_data",
          "data": {
            "text/plain": "Epochs:   0%|          | 0/30 [00:00<?, ?it/s]",
            "application/vnd.jupyter.widget-view+json": {
              "version_major": 2,
              "version_minor": 0,
              "model_id": "e54afa205ec443b6a6bfaa30613ac317"
            }
          },
          "metadata": {}
        },
        {
          "name": "stdout",
          "text": "ResNet, CMA-ES, accuracy on test:\n0.8404\n",
          "output_type": "stream"
        }
      ]
    },
    {
      "cell_type": "markdown",
      "source": [
        "# Grid search"
      ],
      "metadata": {
        "id": "u4klzsiDgCyp"
      }
    },
    {
      "cell_type": "code",
      "source": [
        "def objective_gs(trial):\n",
        "\n",
        "    lr = trial.suggest_float('lr', 1e-3, 1e-1)\n",
        "    optimizer_set = trial.suggest_categorical('optimizer', ['Adam', 'SGD'])\n",
        "\n",
        "    \n",
        "    activation_set = trial.suggest_categorical('activation', ['ReLU', 'LeakyReLU'])\n",
        "    return pipeline(activation_set, optimizer_set, lr)"
      ],
      "metadata": {
        "execution": {
          "iopub.status.busy": "2022-05-02T03:12:30.952456Z",
          "iopub.execute_input": "2022-05-02T03:12:30.952710Z",
          "iopub.status.idle": "2022-05-02T03:12:30.958657Z",
          "shell.execute_reply.started": "2022-05-02T03:12:30.952680Z",
          "shell.execute_reply": "2022-05-02T03:12:30.957837Z"
        },
        "trusted": true,
        "id": "-0eTm2DIgCyq"
      },
      "execution_count": null,
      "outputs": []
    },
    {
      "cell_type": "code",
      "source": [
        "%%time\n",
        "search_space = {'optimizer': ['Adam', 'SGD'], 'activation': ['ReLU', 'LeakyReLU'], 'lr': np.logspace(-3, -1, 3)}\n",
        "study = optuna.create_study(direction='maximize', sampler=optuna.samplers.GridSampler(search_space))\n",
        "study.optimize(objective_gs, n_trials=12)"
      ],
      "metadata": {
        "execution": {
          "iopub.status.busy": "2022-05-02T03:12:53.669148Z",
          "iopub.execute_input": "2022-05-02T03:12:53.669408Z",
          "iopub.status.idle": "2022-05-02T07:30:30.268433Z",
          "shell.execute_reply.started": "2022-05-02T03:12:53.669377Z",
          "shell.execute_reply": "2022-05-02T07:30:30.267714Z"
        },
        "trusted": true,
        "colab": {
          "referenced_widgets": [
            "9a18d45a3a6043ff939425b3be51db31",
            "21a171ea8a4543dba019a814ae97fa8c",
            "0981e3c23f524f32adaa84ca826ac99e",
            "9324c3f297684eb091e6f322b09a989d",
            "476f863d52d245f5a3d6aaf6f947f7b7",
            "6ea0fec5a90947c9a97c9d05f42258b0",
            "8e48260941134e90b4e57070259f26e4",
            "383723c954a243ad8b4a9d4d5feeabf5",
            "ca997e80d254412f938603c2568a1139",
            "8afd27a3204a49e49edbce6c8ef9d8a0",
            "06a81c472bce4fbaae9e09d4c1dc9165",
            "a5b1e2f0694d4f98ba28dbbc960cee74"
          ]
        },
        "id": "NGqTZD9HgCyq",
        "outputId": "5e4cce02-d9ce-495c-90a9-196ddf78b14f"
      },
      "execution_count": null,
      "outputs": [
        {
          "output_type": "display_data",
          "data": {
            "text/plain": "Epochs:   0%|          | 0/30 [00:00<?, ?it/s]",
            "application/vnd.jupyter.widget-view+json": {
              "version_major": 2,
              "version_minor": 0,
              "model_id": "9a18d45a3a6043ff939425b3be51db31"
            }
          },
          "metadata": {}
        },
        {
          "output_type": "display_data",
          "data": {
            "text/plain": "Epochs:   0%|          | 0/30 [00:00<?, ?it/s]",
            "application/vnd.jupyter.widget-view+json": {
              "version_major": 2,
              "version_minor": 0,
              "model_id": "21a171ea8a4543dba019a814ae97fa8c"
            }
          },
          "metadata": {}
        },
        {
          "output_type": "display_data",
          "data": {
            "text/plain": "Epochs:   0%|          | 0/30 [00:00<?, ?it/s]",
            "application/vnd.jupyter.widget-view+json": {
              "version_major": 2,
              "version_minor": 0,
              "model_id": "0981e3c23f524f32adaa84ca826ac99e"
            }
          },
          "metadata": {}
        },
        {
          "output_type": "display_data",
          "data": {
            "text/plain": "Epochs:   0%|          | 0/30 [00:00<?, ?it/s]",
            "application/vnd.jupyter.widget-view+json": {
              "version_major": 2,
              "version_minor": 0,
              "model_id": "9324c3f297684eb091e6f322b09a989d"
            }
          },
          "metadata": {}
        },
        {
          "output_type": "display_data",
          "data": {
            "text/plain": "Epochs:   0%|          | 0/30 [00:00<?, ?it/s]",
            "application/vnd.jupyter.widget-view+json": {
              "version_major": 2,
              "version_minor": 0,
              "model_id": "476f863d52d245f5a3d6aaf6f947f7b7"
            }
          },
          "metadata": {}
        },
        {
          "output_type": "display_data",
          "data": {
            "text/plain": "Epochs:   0%|          | 0/30 [00:00<?, ?it/s]",
            "application/vnd.jupyter.widget-view+json": {
              "version_major": 2,
              "version_minor": 0,
              "model_id": "6ea0fec5a90947c9a97c9d05f42258b0"
            }
          },
          "metadata": {}
        },
        {
          "output_type": "display_data",
          "data": {
            "text/plain": "Epochs:   0%|          | 0/30 [00:00<?, ?it/s]",
            "application/vnd.jupyter.widget-view+json": {
              "version_major": 2,
              "version_minor": 0,
              "model_id": "8e48260941134e90b4e57070259f26e4"
            }
          },
          "metadata": {}
        },
        {
          "output_type": "display_data",
          "data": {
            "text/plain": "Epochs:   0%|          | 0/30 [00:00<?, ?it/s]",
            "application/vnd.jupyter.widget-view+json": {
              "version_major": 2,
              "version_minor": 0,
              "model_id": "383723c954a243ad8b4a9d4d5feeabf5"
            }
          },
          "metadata": {}
        },
        {
          "output_type": "display_data",
          "data": {
            "text/plain": "Epochs:   0%|          | 0/30 [00:00<?, ?it/s]",
            "application/vnd.jupyter.widget-view+json": {
              "version_major": 2,
              "version_minor": 0,
              "model_id": "ca997e80d254412f938603c2568a1139"
            }
          },
          "metadata": {}
        },
        {
          "output_type": "display_data",
          "data": {
            "text/plain": "Epochs:   0%|          | 0/30 [00:00<?, ?it/s]",
            "application/vnd.jupyter.widget-view+json": {
              "version_major": 2,
              "version_minor": 0,
              "model_id": "8afd27a3204a49e49edbce6c8ef9d8a0"
            }
          },
          "metadata": {}
        },
        {
          "output_type": "display_data",
          "data": {
            "text/plain": "Epochs:   0%|          | 0/30 [00:00<?, ?it/s]",
            "application/vnd.jupyter.widget-view+json": {
              "version_major": 2,
              "version_minor": 0,
              "model_id": "06a81c472bce4fbaae9e09d4c1dc9165"
            }
          },
          "metadata": {}
        },
        {
          "output_type": "display_data",
          "data": {
            "text/plain": "Epochs:   0%|          | 0/30 [00:00<?, ?it/s]",
            "application/vnd.jupyter.widget-view+json": {
              "version_major": 2,
              "version_minor": 0,
              "model_id": "a5b1e2f0694d4f98ba28dbbc960cee74"
            }
          },
          "metadata": {}
        },
        {
          "name": "stdout",
          "text": "CPU times: user 4h 16min 6s, sys: 20.4 s, total: 4h 16min 27s\nWall time: 4h 17min 36s\n",
          "output_type": "stream"
        }
      ]
    },
    {
      "cell_type": "code",
      "source": [
        "plt.figure(figsize=(20, 18))\n",
        "optuna.visualization.matplotlib.plot_optimization_history(study)\n",
        "plt.savefig('ResNet_GS_HIST.pdf')"
      ],
      "metadata": {
        "execution": {
          "iopub.status.busy": "2022-05-02T07:30:30.270255Z",
          "iopub.execute_input": "2022-05-02T07:30:30.270714Z",
          "iopub.status.idle": "2022-05-02T07:30:30.794229Z",
          "shell.execute_reply.started": "2022-05-02T07:30:30.270677Z",
          "shell.execute_reply": "2022-05-02T07:30:30.793543Z"
        },
        "trusted": true,
        "id": "fmOQgcskgCyr",
        "outputId": "2e67e066-bcc8-464e-e3e8-652e51813a1d"
      },
      "execution_count": null,
      "outputs": [
        {
          "name": "stderr",
          "text": "/opt/conda/lib/python3.7/site-packages/ipykernel_launcher.py:2: ExperimentalWarning: plot_optimization_history is experimental (supported from v2.2.0). The interface can change in the future.\n  \n",
          "output_type": "stream"
        },
        {
          "output_type": "display_data",
          "data": {
            "text/plain": "<Figure size 1440x1296 with 0 Axes>"
          },
          "metadata": {}
        },
        {
          "output_type": "display_data",
          "data": {
            "text/plain": "<Figure size 432x288 with 1 Axes>",
            "image/png": "[encoded data removed]"
          },
          "metadata": {}
        }
      ]
    },
    {
      "cell_type": "code",
      "source": [
        "print('ResNet, GS, best trial:')\n",
        "print(study.best_trial.params)\n",
        "print('ResNet, GS, best accuracy:')\n",
        "print(study.best_value)\n",
        "print('ResNet, GS, best trial number')\n",
        "print(study.best_trial.number)"
      ],
      "metadata": {
        "execution": {
          "iopub.status.busy": "2022-05-02T07:30:30.795503Z",
          "iopub.execute_input": "2022-05-02T07:30:30.795736Z",
          "iopub.status.idle": "2022-05-02T07:30:30.804302Z",
          "shell.execute_reply.started": "2022-05-02T07:30:30.795704Z",
          "shell.execute_reply": "2022-05-02T07:30:30.803429Z"
        },
        "trusted": true,
        "id": "NqHfQqGsgCys",
        "outputId": "d722c760-9f36-4dec-aa4c-c5a5d58b51cc"
      },
      "execution_count": null,
      "outputs": [
        {
          "name": "stdout",
          "text": "ResNet, GS, best trial:\n{'lr': 0.1, 'optimizer': 'SGD', 'activation': 'ReLU'}\nResNet, GS, best accuracy:\n0.8458\nResNet, GS, best trial number\n5\n",
          "output_type": "stream"
        }
      ]
    },
    {
      "cell_type": "code",
      "source": [
        "plt.figure(figsize=(20, 18))\n",
        "optuna.visualization.matplotlib.plot_contour(study, params=[\"lr\", \"optimizer\", \"activation\"])\n",
        "plt.savefig('ResNet_GS_CP.pdf')"
      ],
      "metadata": {
        "execution": {
          "iopub.status.busy": "2022-05-02T07:30:30.806439Z",
          "iopub.execute_input": "2022-05-02T07:30:30.807298Z",
          "iopub.status.idle": "2022-05-02T07:31:02.757441Z",
          "shell.execute_reply.started": "2022-05-02T07:30:30.807263Z",
          "shell.execute_reply": "2022-05-02T07:31:02.756745Z"
        },
        "trusted": true,
        "id": "Kh6IO8HNgCys",
        "outputId": "cc6d7476-fd24-48bc-a067-e3df790adffc"
      },
      "execution_count": null,
      "outputs": [
        {
          "name": "stderr",
          "text": "/opt/conda/lib/python3.7/site-packages/ipykernel_launcher.py:2: ExperimentalWarning: plot_contour is experimental (supported from v2.2.0). The interface can change in the future.\n  \n",
          "output_type": "stream"
        },
        {
          "output_type": "display_data",
          "data": {
            "text/plain": "<Figure size 1440x1296 with 0 Axes>"
          },
          "metadata": {}
        },
        {
          "output_type": "display_data",
          "data": {
            "text/plain": "<Figure size 432x288 with 10 Axes>",
            "image/png": "[encoded data removed]"
          },
          "metadata": {}
        }
      ]
    },
    {
      "cell_type": "code",
      "source": [
        "loss, acc = eval_test(study)\n",
        "print('ResNet, GS, accuracy on test:')\n",
        "print(acc)"
      ],
      "metadata": {
        "execution": {
          "iopub.status.busy": "2022-05-02T07:34:14.752812Z",
          "iopub.execute_input": "2022-05-02T07:34:14.753508Z",
          "iopub.status.idle": "2022-05-02T07:55:35.405740Z",
          "shell.execute_reply.started": "2022-05-02T07:34:14.753470Z",
          "shell.execute_reply": "2022-05-02T07:55:35.405026Z"
        },
        "trusted": true,
        "colab": {
          "referenced_widgets": [
            "86bec2eb7a7f4120ad8893f6bf6295bb"
          ]
        },
        "id": "MzORD7FegCyt",
        "outputId": "c7f3b4a8-e0e4-490c-9abd-dcc64f297818"
      },
      "execution_count": null,
      "outputs": [
        {
          "output_type": "display_data",
          "data": {
            "text/plain": "Epochs:   0%|          | 0/30 [00:00<?, ?it/s]",
            "application/vnd.jupyter.widget-view+json": {
              "version_major": 2,
              "version_minor": 0,
              "model_id": "86bec2eb7a7f4120ad8893f6bf6295bb"
            }
          },
          "metadata": {}
        },
        {
          "name": "stdout",
          "text": "ResNet, GS, accuracy on test:\n0.8368\n",
          "output_type": "stream"
        }
      ]
    }
  ]
}